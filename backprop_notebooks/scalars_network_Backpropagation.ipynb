{
  "nbformat": 4,
  "nbformat_minor": 0,
  "metadata": {
    "colab": {
      "provenance": [],
      "authorship_tag": "ABX9TyNUFoD2J+iU592ujjlujqo8",
      "include_colab_link": true
    },
    "kernelspec": {
      "name": "python3",
      "display_name": "Python 3"
    },
    "language_info": {
      "name": "python"
    }
  },
  "cells": [
    {
      "cell_type": "markdown",
      "metadata": {
        "id": "view-in-github",
        "colab_type": "text"
      },
      "source": [
        "<a href=\"https://colab.research.google.com/github/01PrathamS/Backprop/blob/main/scalars_network_Backpropagation.ipynb\" target=\"_parent\"><img src=\"https://colab.research.google.com/assets/colab-badge.svg\" alt=\"Open In Colab\"/></a>"
      ]
    },
    {
      "cell_type": "code",
      "execution_count": 20,
      "metadata": {
        "id": "WHSjdf-5tHty"
      },
      "outputs": [],
      "source": [
        "import math\n",
        "import numpy as np\n",
        "import matplotlib.pyplot as plt\n",
        "%matplotlib inline"
      ]
    },
    {
      "cell_type": "code",
      "source": [
        "h = 0.0001\n",
        "\n",
        "a = 2.0\n",
        "b = -3.0\n",
        "c = 10.0\n",
        "d = a*b + c"
      ],
      "metadata": {
        "id": "UnH9ZbD9vmVz"
      },
      "execution_count": 21,
      "outputs": []
    },
    {
      "cell_type": "code",
      "source": [
        "h = 0.00001\n",
        "\n",
        "\n",
        "a = 2.0\n",
        "b = -3.0\n",
        "c = 10.0\n",
        "\n",
        "d1 = a*b +c\n",
        "a += h\n",
        "d2 = a*b + c\n",
        "print(d1)\n",
        "print(d2)\n",
        "print(\"slope,\",(d2 - d1)/h)"
      ],
      "metadata": {
        "colab": {
          "base_uri": "https://localhost:8080/"
        },
        "id": "Oa0ovqo7xGQg",
        "outputId": "f9c43ac5-3182-40d7-cfa3-ce681de594f1"
      },
      "execution_count": 22,
      "outputs": [
        {
          "output_type": "stream",
          "name": "stdout",
          "text": [
            "4.0\n",
            "3.9999699999999994\n",
            "slope, -3.000000000064062\n"
          ]
        }
      ]
    },
    {
      "cell_type": "code",
      "source": [
        "class Value:\n",
        "\n",
        "  def __init__(self, data, _children=(), _op='', label=''):\n",
        "    self.data = data\n",
        "    self.grad = 0.0\n",
        "    self._backward = lambda: None\n",
        "    self._prev = set(_children)\n",
        "    self._op = _op\n",
        "    self.label = label\n",
        "\n",
        "  def __repr__(self):\n",
        "    return f\"Value({self.data})\"\n",
        "\n",
        "  def __add__(self, other):\n",
        "    out = Value(self.data + other.data, (self, other), '+')\n",
        "    def _backward():\n",
        "      self.grad += 1.0 * out.grad\n",
        "      other.grad += 1.0 * out.grad\n",
        "    out._backward = _backward\n",
        "    return out\n",
        "\n",
        "  def __mul__(self, other):\n",
        "    out = Value(self.data * other.data, (self, other), '*')\n",
        "    def _backward():\n",
        "      self.grad += other.data * out.grad\n",
        "      other.grad += self.data * out.grad\n",
        "    out._backward = _backward\n",
        "    return out\n",
        "\n",
        "  def tanh(self):\n",
        "    x = self.data\n",
        "    t = (math.exp(2*x) - 1)/(math.exp(2*x) + 1)\n",
        "    out = Value(t, (self, ), 'tanh')\n",
        "    def _backward():\n",
        "      self.grad += (1 - t**2) * out.grad\n",
        "    out._backward = _backward\n",
        "    return out\n",
        "\n",
        "  def backward(self):\n",
        "\n",
        "    topo = []\n",
        "    visited = set()\n",
        "    def build_topo(v):\n",
        "      if v not in visited:\n",
        "        visited.add(v)\n",
        "        for child in v._prev:\n",
        "          build_topo(child)\n",
        "        topo.append(v)\n",
        "    build_topo(self)\n",
        "    self.grad = 1.0\n",
        "\n",
        "    for node in reversed(topo):\n",
        "      node._backward()\n",
        "\n"
      ],
      "metadata": {
        "id": "1J-MRtslxTbP"
      },
      "execution_count": 50,
      "outputs": []
    },
    {
      "cell_type": "code",
      "source": [
        "a = Value(2.0, label='a')\n",
        "b = Value(-3.0, label='b')\n",
        "c = Value(10.0, label='c')\n",
        "e = a*b ; e.label = 'e'\n",
        "d = e + c; d.label='d'\n",
        "f = Value(-2.0, label='f')\n",
        "L = d * f; L.label='L'\n",
        "L"
      ],
      "metadata": {
        "colab": {
          "base_uri": "https://localhost:8080/"
        },
        "id": "VIgSm48fyy9T",
        "outputId": "6909f91c-22c9-4a27-ad86-48e0b0f799ca"
      },
      "execution_count": 24,
      "outputs": [
        {
          "output_type": "execute_result",
          "data": {
            "text/plain": [
              "Value(-8.0)"
            ]
          },
          "metadata": {},
          "execution_count": 24
        }
      ]
    },
    {
      "cell_type": "code",
      "source": [
        "from graphviz import Digraph\n",
        "\n",
        "def trace(root):\n",
        "  nodes, edges = set(), set()\n",
        "  def build(v):\n",
        "    if v not in nodes:\n",
        "      nodes.add(v)\n",
        "      for child in v._prev:\n",
        "        edges.add((child, v))\n",
        "        build(child)\n",
        "  build(root)\n",
        "  return nodes, edges\n",
        "\n",
        "def draw_dot(root):\n",
        "  dot = Digraph(format='svg', graph_attr={\"rankdir\": \"LR\"})\n",
        "  nodes, edges = trace(root)\n",
        "  for n in nodes:\n",
        "    uid = str(id(n))\n",
        "    dot.node(name=uid, label = \"{ %s | data %.4f | grad %.4f }\" % (n.label, n.data, n.grad ), shape='record')\n",
        "    if n._op:\n",
        "      dot.node(name=uid + n._op, label=n._op)\n",
        "      dot.edge(uid + n._op, uid)\n",
        "\n",
        "  for n1, n2 in edges:\n",
        "    dot.edge(str(id(n1)), str(id(n2)) + n2._op)\n",
        "  return dot"
      ],
      "metadata": {
        "id": "D1cbLO0Q0w_L"
      },
      "execution_count": 25,
      "outputs": []
    },
    {
      "cell_type": "code",
      "source": [
        "draw_dot(L)"
      ],
      "metadata": {
        "colab": {
          "base_uri": "https://localhost:8080/",
          "height": 212
        },
        "id": "-rI8g5iV1pUs",
        "outputId": "1ae465a5-7ed0-4410-920d-e423d7945d89"
      },
      "execution_count": 26,
      "outputs": [
        {
          "output_type": "execute_result",
          "data": {
            "image/svg+xml": "<?xml version=\"1.0\" encoding=\"UTF-8\" standalone=\"no\"?>\n<!DOCTYPE svg PUBLIC \"-//W3C//DTD SVG 1.1//EN\"\n \"http://www.w3.org/Graphics/SVG/1.1/DTD/svg11.dtd\">\n<!-- Generated by graphviz version 2.43.0 (0)\n -->\n<!-- Title: %3 Pages: 1 -->\n<svg width=\"1148pt\" height=\"128pt\"\n viewBox=\"0.00 0.00 1148.00 128.00\" xmlns=\"http://www.w3.org/2000/svg\" xmlns:xlink=\"http://www.w3.org/1999/xlink\">\n<g id=\"graph0\" class=\"graph\" transform=\"scale(1 1) rotate(0) translate(4 124)\">\n<title>%3</title>\n<polygon fill=\"white\" stroke=\"transparent\" points=\"-4,4 -4,-124 1144,-124 1144,4 -4,4\"/>\n<!-- 137247244943952 -->\n<g id=\"node1\" class=\"node\">\n<title>137247244943952</title>\n<polygon fill=\"none\" stroke=\"black\" points=\"316,-83.5 316,-119.5 508,-119.5 508,-83.5 316,-83.5\"/>\n<text text-anchor=\"middle\" x=\"327.5\" y=\"-97.8\" font-family=\"Times,serif\" font-size=\"14.00\">c</text>\n<polyline fill=\"none\" stroke=\"black\" points=\"339,-83.5 339,-119.5 \"/>\n<text text-anchor=\"middle\" x=\"382.5\" y=\"-97.8\" font-family=\"Times,serif\" font-size=\"14.00\">data 10.0000</text>\n<polyline fill=\"none\" stroke=\"black\" points=\"426,-83.5 426,-119.5 \"/>\n<text text-anchor=\"middle\" x=\"467\" y=\"-97.8\" font-family=\"Times,serif\" font-size=\"14.00\">grad 0.0000</text>\n</g>\n<!-- 137247244949856+ -->\n<g id=\"node6\" class=\"node\">\n<title>137247244949856+</title>\n<ellipse fill=\"none\" stroke=\"black\" cx=\"571\" cy=\"-73.5\" rx=\"27\" ry=\"18\"/>\n<text text-anchor=\"middle\" x=\"571\" y=\"-69.8\" font-family=\"Times,serif\" font-size=\"14.00\">+</text>\n</g>\n<!-- 137247244943952&#45;&gt;137247244949856+ -->\n<g id=\"edge8\" class=\"edge\">\n<title>137247244943952&#45;&gt;137247244949856+</title>\n<path fill=\"none\" stroke=\"black\" d=\"M508.4,-84.49C517.69,-82.83 526.64,-81.23 534.71,-79.79\"/>\n<polygon fill=\"black\" stroke=\"black\" points=\"535.53,-83.2 544.76,-78 534.31,-76.31 535.53,-83.2\"/>\n</g>\n<!-- 137247244948656 -->\n<g id=\"node2\" class=\"node\">\n<title>137247244948656</title>\n<polygon fill=\"none\" stroke=\"black\" points=\"0,-56.5 0,-92.5 190,-92.5 190,-56.5 0,-56.5\"/>\n<text text-anchor=\"middle\" x=\"11.5\" y=\"-70.8\" font-family=\"Times,serif\" font-size=\"14.00\">b</text>\n<polyline fill=\"none\" stroke=\"black\" points=\"23,-56.5 23,-92.5 \"/>\n<text text-anchor=\"middle\" x=\"65.5\" y=\"-70.8\" font-family=\"Times,serif\" font-size=\"14.00\">data &#45;3.0000</text>\n<polyline fill=\"none\" stroke=\"black\" points=\"108,-56.5 108,-92.5 \"/>\n<text text-anchor=\"middle\" x=\"149\" y=\"-70.8\" font-family=\"Times,serif\" font-size=\"14.00\">grad 0.0000</text>\n</g>\n<!-- 137247244950000* -->\n<g id=\"node10\" class=\"node\">\n<title>137247244950000*</title>\n<ellipse fill=\"none\" stroke=\"black\" cx=\"253\" cy=\"-46.5\" rx=\"27\" ry=\"18\"/>\n<text text-anchor=\"middle\" x=\"253\" y=\"-42.8\" font-family=\"Times,serif\" font-size=\"14.00\">*</text>\n</g>\n<!-- 137247244948656&#45;&gt;137247244950000* -->\n<g id=\"edge4\" class=\"edge\">\n<title>137247244948656&#45;&gt;137247244950000*</title>\n<path fill=\"none\" stroke=\"black\" d=\"M190.34,-57.57C199.62,-55.9 208.58,-54.29 216.66,-52.84\"/>\n<polygon fill=\"black\" stroke=\"black\" points=\"217.49,-56.25 226.72,-51.04 216.26,-49.36 217.49,-56.25\"/>\n</g>\n<!-- 137247244953936 -->\n<g id=\"node3\" class=\"node\">\n<title>137247244953936</title>\n<polygon fill=\"none\" stroke=\"black\" points=\"948,-27.5 948,-63.5 1140,-63.5 1140,-27.5 948,-27.5\"/>\n<text text-anchor=\"middle\" x=\"960.5\" y=\"-41.8\" font-family=\"Times,serif\" font-size=\"14.00\">L</text>\n<polyline fill=\"none\" stroke=\"black\" points=\"973,-27.5 973,-63.5 \"/>\n<text text-anchor=\"middle\" x=\"1015.5\" y=\"-41.8\" font-family=\"Times,serif\" font-size=\"14.00\">data &#45;8.0000</text>\n<polyline fill=\"none\" stroke=\"black\" points=\"1058,-27.5 1058,-63.5 \"/>\n<text text-anchor=\"middle\" x=\"1099\" y=\"-41.8\" font-family=\"Times,serif\" font-size=\"14.00\">grad 0.0000</text>\n</g>\n<!-- 137247244953936* -->\n<g id=\"node4\" class=\"node\">\n<title>137247244953936*</title>\n<ellipse fill=\"none\" stroke=\"black\" cx=\"885\" cy=\"-45.5\" rx=\"27\" ry=\"18\"/>\n<text text-anchor=\"middle\" x=\"885\" y=\"-41.8\" font-family=\"Times,serif\" font-size=\"14.00\">*</text>\n</g>\n<!-- 137247244953936*&#45;&gt;137247244953936 -->\n<g id=\"edge1\" class=\"edge\">\n<title>137247244953936*&#45;&gt;137247244953936</title>\n<path fill=\"none\" stroke=\"black\" d=\"M912.28,-45.5C919.78,-45.5 928.44,-45.5 937.67,-45.5\"/>\n<polygon fill=\"black\" stroke=\"black\" points=\"937.87,-49 947.87,-45.5 937.87,-42 937.87,-49\"/>\n</g>\n<!-- 137247244949856 -->\n<g id=\"node5\" class=\"node\">\n<title>137247244949856</title>\n<polygon fill=\"none\" stroke=\"black\" points=\"635.5,-55.5 635.5,-91.5 820.5,-91.5 820.5,-55.5 635.5,-55.5\"/>\n<text text-anchor=\"middle\" x=\"647\" y=\"-69.8\" font-family=\"Times,serif\" font-size=\"14.00\">d</text>\n<polyline fill=\"none\" stroke=\"black\" points=\"658.5,-55.5 658.5,-91.5 \"/>\n<text text-anchor=\"middle\" x=\"698.5\" y=\"-69.8\" font-family=\"Times,serif\" font-size=\"14.00\">data 4.0000</text>\n<polyline fill=\"none\" stroke=\"black\" points=\"738.5,-55.5 738.5,-91.5 \"/>\n<text text-anchor=\"middle\" x=\"779.5\" y=\"-69.8\" font-family=\"Times,serif\" font-size=\"14.00\">grad 0.0000</text>\n</g>\n<!-- 137247244949856&#45;&gt;137247244953936* -->\n<g id=\"edge6\" class=\"edge\">\n<title>137247244949856&#45;&gt;137247244953936*</title>\n<path fill=\"none\" stroke=\"black\" d=\"M820.51,-56.97C830.48,-55.17 840.13,-53.42 848.77,-51.86\"/>\n<polygon fill=\"black\" stroke=\"black\" points=\"849.55,-55.28 858.77,-50.06 848.3,-48.39 849.55,-55.28\"/>\n</g>\n<!-- 137247244949856+&#45;&gt;137247244949856 -->\n<g id=\"edge2\" class=\"edge\">\n<title>137247244949856+&#45;&gt;137247244949856</title>\n<path fill=\"none\" stroke=\"black\" d=\"M598.29,-73.5C606.26,-73.5 615.54,-73.5 625.39,-73.5\"/>\n<polygon fill=\"black\" stroke=\"black\" points=\"625.41,-77 635.41,-73.5 625.41,-70 625.41,-77\"/>\n</g>\n<!-- 137247244950384 -->\n<g id=\"node7\" class=\"node\">\n<title>137247244950384</title>\n<polygon fill=\"none\" stroke=\"black\" points=\"634,-0.5 634,-36.5 822,-36.5 822,-0.5 634,-0.5\"/>\n<text text-anchor=\"middle\" x=\"644.5\" y=\"-14.8\" font-family=\"Times,serif\" font-size=\"14.00\">f</text>\n<polyline fill=\"none\" stroke=\"black\" points=\"655,-0.5 655,-36.5 \"/>\n<text text-anchor=\"middle\" x=\"697.5\" y=\"-14.8\" font-family=\"Times,serif\" font-size=\"14.00\">data &#45;2.0000</text>\n<polyline fill=\"none\" stroke=\"black\" points=\"740,-0.5 740,-36.5 \"/>\n<text text-anchor=\"middle\" x=\"781\" y=\"-14.8\" font-family=\"Times,serif\" font-size=\"14.00\">grad 0.0000</text>\n</g>\n<!-- 137247244950384&#45;&gt;137247244953936* -->\n<g id=\"edge7\" class=\"edge\">\n<title>137247244950384&#45;&gt;137247244953936*</title>\n<path fill=\"none\" stroke=\"black\" d=\"M822.29,-34.75C831.57,-36.37 840.52,-37.93 848.61,-39.33\"/>\n<polygon fill=\"black\" stroke=\"black\" points=\"848.22,-42.82 858.68,-41.09 849.42,-35.92 848.22,-42.82\"/>\n</g>\n<!-- 137247244944288 -->\n<g id=\"node8\" class=\"node\">\n<title>137247244944288</title>\n<polygon fill=\"none\" stroke=\"black\" points=\"2.5,-1.5 2.5,-37.5 187.5,-37.5 187.5,-1.5 2.5,-1.5\"/>\n<text text-anchor=\"middle\" x=\"14\" y=\"-15.8\" font-family=\"Times,serif\" font-size=\"14.00\">a</text>\n<polyline fill=\"none\" stroke=\"black\" points=\"25.5,-1.5 25.5,-37.5 \"/>\n<text text-anchor=\"middle\" x=\"65.5\" y=\"-15.8\" font-family=\"Times,serif\" font-size=\"14.00\">data 2.0000</text>\n<polyline fill=\"none\" stroke=\"black\" points=\"105.5,-1.5 105.5,-37.5 \"/>\n<text text-anchor=\"middle\" x=\"146.5\" y=\"-15.8\" font-family=\"Times,serif\" font-size=\"14.00\">grad 0.0000</text>\n</g>\n<!-- 137247244944288&#45;&gt;137247244950000* -->\n<g id=\"edge9\" class=\"edge\">\n<title>137247244944288&#45;&gt;137247244950000*</title>\n<path fill=\"none\" stroke=\"black\" d=\"M187.65,-35.36C197.94,-37.14 207.91,-38.87 216.81,-40.41\"/>\n<polygon fill=\"black\" stroke=\"black\" points=\"216.26,-43.87 226.71,-42.12 217.45,-36.97 216.26,-43.87\"/>\n</g>\n<!-- 137247244950000 -->\n<g id=\"node9\" class=\"node\">\n<title>137247244950000</title>\n<polygon fill=\"none\" stroke=\"black\" points=\"317,-28.5 317,-64.5 507,-64.5 507,-28.5 317,-28.5\"/>\n<text text-anchor=\"middle\" x=\"328.5\" y=\"-42.8\" font-family=\"Times,serif\" font-size=\"14.00\">e</text>\n<polyline fill=\"none\" stroke=\"black\" points=\"340,-28.5 340,-64.5 \"/>\n<text text-anchor=\"middle\" x=\"382.5\" y=\"-42.8\" font-family=\"Times,serif\" font-size=\"14.00\">data &#45;6.0000</text>\n<polyline fill=\"none\" stroke=\"black\" points=\"425,-28.5 425,-64.5 \"/>\n<text text-anchor=\"middle\" x=\"466\" y=\"-42.8\" font-family=\"Times,serif\" font-size=\"14.00\">grad 0.0000</text>\n</g>\n<!-- 137247244950000&#45;&gt;137247244949856+ -->\n<g id=\"edge5\" class=\"edge\">\n<title>137247244950000&#45;&gt;137247244949856+</title>\n<path fill=\"none\" stroke=\"black\" d=\"M507.05,-62.67C516.78,-64.35 526.18,-65.96 534.62,-67.42\"/>\n<polygon fill=\"black\" stroke=\"black\" points=\"534.3,-70.91 544.75,-69.16 535.49,-64.01 534.3,-70.91\"/>\n</g>\n<!-- 137247244950000*&#45;&gt;137247244950000 -->\n<g id=\"edge3\" class=\"edge\">\n<title>137247244950000*&#45;&gt;137247244950000</title>\n<path fill=\"none\" stroke=\"black\" d=\"M280.28,-46.5C288.05,-46.5 297.08,-46.5 306.68,-46.5\"/>\n<polygon fill=\"black\" stroke=\"black\" points=\"306.88,-50 316.88,-46.5 306.88,-43 306.88,-50\"/>\n</g>\n</g>\n</svg>\n",
            "text/plain": [
              "<graphviz.graphs.Digraph at 0x7cd35d4834c0>"
            ]
          },
          "metadata": {},
          "execution_count": 26
        }
      ]
    },
    {
      "cell_type": "code",
      "source": [
        "L.grad = 1.0"
      ],
      "metadata": {
        "id": "Rgy_vmcT5gfe"
      },
      "execution_count": 27,
      "outputs": []
    },
    {
      "cell_type": "code",
      "source": [
        "f.grad = 4.0\n",
        "d.grad = -2.0"
      ],
      "metadata": {
        "id": "WdaL7DLJ6ZJZ"
      },
      "execution_count": 28,
      "outputs": []
    },
    {
      "cell_type": "code",
      "source": [
        "\"\"\"\n",
        "L = d * f\n",
        "\n",
        "dL/dd = f\n",
        "\n",
        "(f(x+h) - f(x))/h ;\n",
        "((d + h)*f) - (d*f) / h  ;\n",
        "(d*f + h*f - d*f) / h ;\n",
        "(h*f) / h\n",
        "f\n",
        "\n",
        "\n",
        "\"\"\""
      ],
      "metadata": {
        "id": "7V07CpZ85moh",
        "colab": {
          "base_uri": "https://localhost:8080/",
          "height": 35
        },
        "outputId": "61910456-24b6-4590-eddd-200fc4d4243e"
      },
      "execution_count": 29,
      "outputs": [
        {
          "output_type": "execute_result",
          "data": {
            "text/plain": [
              "'\\nL = d * f\\n\\ndL/dd = f\\n\\n(f(x+h) - f(x))/h ;\\n((d + h)*f) - (d*f) / h  ;\\n(d*f + h*f - d*f) / h ;\\n(h*f) / h\\nf\\n\\n\\n'"
            ],
            "application/vnd.google.colaboratory.intrinsic+json": {
              "type": "string"
            }
          },
          "metadata": {},
          "execution_count": 29
        }
      ]
    },
    {
      "cell_type": "code",
      "source": [
        "def lol():\n",
        "\n",
        "  h = 0.001\n",
        "\n",
        "  a = Value(2.0, label='a')\n",
        "  b = Value(-3.0, label='b')\n",
        "  c = Value(10.0, label='c')\n",
        "  e = a*b ; e.label = 'e'\n",
        "  d = e + c; d.label='d'\n",
        "  f = Value(-2.0, label='f')\n",
        "  L = d * f; L.label='L'\n",
        "  L1 = L.data\n",
        "\n",
        "  a = Value(2.0 , label='a')\n",
        "  b = Value(-3.0, label='b')\n",
        "  c = Value(10.0, label='c')\n",
        "  e = a*b ; e.label = 'e'\n",
        "  d = e + c ; d.label='d'\n",
        "  f = Value(-2.0, label='f')\n",
        "  L = d * f; L.label='L'\n",
        "  L2 = L.data\n",
        "\n",
        "  print((L2-L1)/h)\n",
        "\n",
        "lol()"
      ],
      "metadata": {
        "colab": {
          "base_uri": "https://localhost:8080/"
        },
        "id": "8F366lsB1q8P",
        "outputId": "0559595c-3bd9-4616-c8d1-2b6a5f0f6186"
      },
      "execution_count": 30,
      "outputs": [
        {
          "output_type": "stream",
          "name": "stdout",
          "text": [
            "0.0\n"
          ]
        }
      ]
    },
    {
      "cell_type": "code",
      "source": [
        "x1 = Value(2.0, label='x1')\n",
        "x2 = Value(0.0, label='x2')\n",
        "\n",
        "w1 = Value(-3.0, label='w1')\n",
        "w2 = Value(1.0, label='w2')\n",
        "b = Value(6.8813735870195432, label='b')\n",
        "\n",
        "x1w1 = x1*w1; x1w1.label='x1w1'\n",
        "x2w2 = x2*w2; x2w2.label='x2w2'\n",
        "x1w1x2w2 = x1w1 + x2w2; x1w1x2w2.label='x1w1x2w2'\n",
        "n = x1w1x2w2 + b; n.label='n'\n",
        "\n",
        "o = n.tanh(); o.label='o'"
      ],
      "metadata": {
        "id": "F8gXn5bF5av5"
      },
      "execution_count": 31,
      "outputs": []
    },
    {
      "cell_type": "code",
      "source": [
        "\n",
        "draw_dot(o)"
      ],
      "metadata": {
        "colab": {
          "base_uri": "https://localhost:8080/",
          "height": 321
        },
        "id": "ERKalvzwBFxA",
        "outputId": "b0d6f15b-f86b-4d6b-afa2-91e2833679f8"
      },
      "execution_count": 43,
      "outputs": [
        {
          "output_type": "execute_result",
          "data": {
            "image/svg+xml": "<?xml version=\"1.0\" encoding=\"UTF-8\" standalone=\"no\"?>\n<!DOCTYPE svg PUBLIC \"-//W3C//DTD SVG 1.1//EN\"\n \"http://www.w3.org/Graphics/SVG/1.1/DTD/svg11.dtd\">\n<!-- Generated by graphviz version 2.43.0 (0)\n -->\n<!-- Title: %3 Pages: 1 -->\n<svg width=\"1540pt\" height=\"210pt\"\n viewBox=\"0.00 0.00 1540.00 210.00\" xmlns=\"http://www.w3.org/2000/svg\" xmlns:xlink=\"http://www.w3.org/1999/xlink\">\n<g id=\"graph0\" class=\"graph\" transform=\"scale(1 1) rotate(0) translate(4 206)\">\n<title>%3</title>\n<polygon fill=\"white\" stroke=\"transparent\" points=\"-4,4 -4,-206 1536,-206 1536,4 -4,4\"/>\n<!-- 137247244951584 -->\n<g id=\"node1\" class=\"node\">\n<title>137247244951584</title>\n<polygon fill=\"none\" stroke=\"black\" points=\"328.5,-55.5 328.5,-91.5 537.5,-91.5 537.5,-55.5 328.5,-55.5\"/>\n<text text-anchor=\"middle\" x=\"352\" y=\"-69.8\" font-family=\"Times,serif\" font-size=\"14.00\">x2w2</text>\n<polyline fill=\"none\" stroke=\"black\" points=\"375.5,-55.5 375.5,-91.5 \"/>\n<text text-anchor=\"middle\" x=\"415.5\" y=\"-69.8\" font-family=\"Times,serif\" font-size=\"14.00\">data 0.0000</text>\n<polyline fill=\"none\" stroke=\"black\" points=\"455.5,-55.5 455.5,-91.5 \"/>\n<text text-anchor=\"middle\" x=\"496.5\" y=\"-69.8\" font-family=\"Times,serif\" font-size=\"14.00\">grad 0.5000</text>\n</g>\n<!-- 137247244951248+ -->\n<g id=\"node9\" class=\"node\">\n<title>137247244951248+</title>\n<ellipse fill=\"none\" stroke=\"black\" cx=\"603\" cy=\"-100.5\" rx=\"27\" ry=\"18\"/>\n<text text-anchor=\"middle\" x=\"603\" y=\"-96.8\" font-family=\"Times,serif\" font-size=\"14.00\">+</text>\n</g>\n<!-- 137247244951584&#45;&gt;137247244951248+ -->\n<g id=\"edge11\" class=\"edge\">\n<title>137247244951584&#45;&gt;137247244951248+</title>\n<path fill=\"none\" stroke=\"black\" d=\"M537.53,-90.14C547.8,-91.79 557.66,-93.37 566.45,-94.79\"/>\n<polygon fill=\"black\" stroke=\"black\" points=\"566.16,-98.28 576.59,-96.42 567.27,-91.37 566.16,-98.28\"/>\n</g>\n<!-- 137247244951584* -->\n<g id=\"node2\" class=\"node\">\n<title>137247244951584*</title>\n<ellipse fill=\"none\" stroke=\"black\" cx=\"263\" cy=\"-73.5\" rx=\"27\" ry=\"18\"/>\n<text text-anchor=\"middle\" x=\"263\" y=\"-69.8\" font-family=\"Times,serif\" font-size=\"14.00\">*</text>\n</g>\n<!-- 137247244951584*&#45;&gt;137247244951584 -->\n<g id=\"edge1\" class=\"edge\">\n<title>137247244951584*&#45;&gt;137247244951584</title>\n<path fill=\"none\" stroke=\"black\" d=\"M290.25,-73.5C298.43,-73.5 308.03,-73.5 318.31,-73.5\"/>\n<polygon fill=\"black\" stroke=\"black\" points=\"318.35,-77 328.35,-73.5 318.35,-70 318.35,-77\"/>\n</g>\n<!-- 137247244957248 -->\n<g id=\"node3\" class=\"node\">\n<title>137247244957248</title>\n<polygon fill=\"none\" stroke=\"black\" points=\"0,-165.5 0,-201.5 200,-201.5 200,-165.5 0,-165.5\"/>\n<text text-anchor=\"middle\" x=\"16.5\" y=\"-179.8\" font-family=\"Times,serif\" font-size=\"14.00\">w1</text>\n<polyline fill=\"none\" stroke=\"black\" points=\"33,-165.5 33,-201.5 \"/>\n<text text-anchor=\"middle\" x=\"75.5\" y=\"-179.8\" font-family=\"Times,serif\" font-size=\"14.00\">data &#45;3.0000</text>\n<polyline fill=\"none\" stroke=\"black\" points=\"118,-165.5 118,-201.5 \"/>\n<text text-anchor=\"middle\" x=\"159\" y=\"-179.8\" font-family=\"Times,serif\" font-size=\"14.00\">grad 1.0000</text>\n</g>\n<!-- 137247244949376* -->\n<g id=\"node14\" class=\"node\">\n<title>137247244949376*</title>\n<ellipse fill=\"none\" stroke=\"black\" cx=\"263\" cy=\"-128.5\" rx=\"27\" ry=\"18\"/>\n<text text-anchor=\"middle\" x=\"263\" y=\"-124.8\" font-family=\"Times,serif\" font-size=\"14.00\">*</text>\n</g>\n<!-- 137247244957248&#45;&gt;137247244949376* -->\n<g id=\"edge13\" class=\"edge\">\n<title>137247244957248&#45;&gt;137247244949376*</title>\n<path fill=\"none\" stroke=\"black\" d=\"M172.53,-165.44C181.84,-162.67 191.2,-159.67 200,-156.5 210.53,-152.71 221.75,-147.9 231.72,-143.33\"/>\n<polygon fill=\"black\" stroke=\"black\" points=\"233.25,-146.48 240.82,-139.07 230.28,-140.14 233.25,-146.48\"/>\n</g>\n<!-- 137247244949136 -->\n<g id=\"node4\" class=\"node\">\n<title>137247244949136</title>\n<polygon fill=\"none\" stroke=\"black\" points=\"1036,-109.5 1036,-145.5 1221,-145.5 1221,-109.5 1036,-109.5\"/>\n<text text-anchor=\"middle\" x=\"1047.5\" y=\"-123.8\" font-family=\"Times,serif\" font-size=\"14.00\">n</text>\n<polyline fill=\"none\" stroke=\"black\" points=\"1059,-109.5 1059,-145.5 \"/>\n<text text-anchor=\"middle\" x=\"1099\" y=\"-123.8\" font-family=\"Times,serif\" font-size=\"14.00\">data 0.8814</text>\n<polyline fill=\"none\" stroke=\"black\" points=\"1139,-109.5 1139,-145.5 \"/>\n<text text-anchor=\"middle\" x=\"1180\" y=\"-123.8\" font-family=\"Times,serif\" font-size=\"14.00\">grad 0.5000</text>\n</g>\n<!-- 137247244949664tanh -->\n<g id=\"node7\" class=\"node\">\n<title>137247244949664tanh</title>\n<ellipse fill=\"none\" stroke=\"black\" cx=\"1284\" cy=\"-127.5\" rx=\"27\" ry=\"18\"/>\n<text text-anchor=\"middle\" x=\"1284\" y=\"-123.8\" font-family=\"Times,serif\" font-size=\"14.00\">tanh</text>\n</g>\n<!-- 137247244949136&#45;&gt;137247244949664tanh -->\n<g id=\"edge9\" class=\"edge\">\n<title>137247244949136&#45;&gt;137247244949664tanh</title>\n<path fill=\"none\" stroke=\"black\" d=\"M1221.01,-127.5C1230.01,-127.5 1238.74,-127.5 1246.66,-127.5\"/>\n<polygon fill=\"black\" stroke=\"black\" points=\"1246.91,-131 1256.91,-127.5 1246.91,-124 1246.91,-131\"/>\n</g>\n<!-- 137247244949136+ -->\n<g id=\"node5\" class=\"node\">\n<title>137247244949136+</title>\n<ellipse fill=\"none\" stroke=\"black\" cx=\"973\" cy=\"-127.5\" rx=\"27\" ry=\"18\"/>\n<text text-anchor=\"middle\" x=\"973\" y=\"-123.8\" font-family=\"Times,serif\" font-size=\"14.00\">+</text>\n</g>\n<!-- 137247244949136+&#45;&gt;137247244949136 -->\n<g id=\"edge2\" class=\"edge\">\n<title>137247244949136+&#45;&gt;137247244949136</title>\n<path fill=\"none\" stroke=\"black\" d=\"M1000.04,-127.5C1007.58,-127.5 1016.3,-127.5 1025.57,-127.5\"/>\n<polygon fill=\"black\" stroke=\"black\" points=\"1025.81,-131 1035.81,-127.5 1025.81,-124 1025.81,-131\"/>\n</g>\n<!-- 137247244949664 -->\n<g id=\"node6\" class=\"node\">\n<title>137247244949664</title>\n<polygon fill=\"none\" stroke=\"black\" points=\"1347,-109.5 1347,-145.5 1532,-145.5 1532,-109.5 1347,-109.5\"/>\n<text text-anchor=\"middle\" x=\"1358.5\" y=\"-123.8\" font-family=\"Times,serif\" font-size=\"14.00\">o</text>\n<polyline fill=\"none\" stroke=\"black\" points=\"1370,-109.5 1370,-145.5 \"/>\n<text text-anchor=\"middle\" x=\"1410\" y=\"-123.8\" font-family=\"Times,serif\" font-size=\"14.00\">data 0.7071</text>\n<polyline fill=\"none\" stroke=\"black\" points=\"1450,-109.5 1450,-145.5 \"/>\n<text text-anchor=\"middle\" x=\"1491\" y=\"-123.8\" font-family=\"Times,serif\" font-size=\"14.00\">grad 1.0000</text>\n</g>\n<!-- 137247244949664tanh&#45;&gt;137247244949664 -->\n<g id=\"edge3\" class=\"edge\">\n<title>137247244949664tanh&#45;&gt;137247244949664</title>\n<path fill=\"none\" stroke=\"black\" d=\"M1311.04,-127.5C1318.58,-127.5 1327.3,-127.5 1336.57,-127.5\"/>\n<polygon fill=\"black\" stroke=\"black\" points=\"1336.81,-131 1346.81,-127.5 1336.81,-124 1336.81,-131\"/>\n</g>\n<!-- 137247244951248 -->\n<g id=\"node8\" class=\"node\">\n<title>137247244951248</title>\n<polygon fill=\"none\" stroke=\"black\" points=\"666,-82.5 666,-118.5 910,-118.5 910,-82.5 666,-82.5\"/>\n<text text-anchor=\"middle\" x=\"704.5\" y=\"-96.8\" font-family=\"Times,serif\" font-size=\"14.00\">x1w1x2w2</text>\n<polyline fill=\"none\" stroke=\"black\" points=\"743,-82.5 743,-118.5 \"/>\n<text text-anchor=\"middle\" x=\"785.5\" y=\"-96.8\" font-family=\"Times,serif\" font-size=\"14.00\">data &#45;6.0000</text>\n<polyline fill=\"none\" stroke=\"black\" points=\"828,-82.5 828,-118.5 \"/>\n<text text-anchor=\"middle\" x=\"869\" y=\"-96.8\" font-family=\"Times,serif\" font-size=\"14.00\">grad 0.5000</text>\n</g>\n<!-- 137247244951248&#45;&gt;137247244949136+ -->\n<g id=\"edge14\" class=\"edge\">\n<title>137247244951248&#45;&gt;137247244949136+</title>\n<path fill=\"none\" stroke=\"black\" d=\"M910.04,-118.36C919.47,-119.75 928.43,-121.07 936.46,-122.26\"/>\n<polygon fill=\"black\" stroke=\"black\" points=\"936.03,-125.73 946.43,-123.73 937.05,-118.81 936.03,-125.73\"/>\n</g>\n<!-- 137247244951248+&#45;&gt;137247244951248 -->\n<g id=\"edge4\" class=\"edge\">\n<title>137247244951248+&#45;&gt;137247244951248</title>\n<path fill=\"none\" stroke=\"black\" d=\"M630.22,-100.5C637.7,-100.5 646.4,-100.5 655.79,-100.5\"/>\n<polygon fill=\"black\" stroke=\"black\" points=\"655.8,-104 665.8,-100.5 655.8,-97 655.8,-104\"/>\n</g>\n<!-- 137247244954320 -->\n<g id=\"node10\" class=\"node\">\n<title>137247244954320</title>\n<polygon fill=\"none\" stroke=\"black\" points=\"695.5,-137.5 695.5,-173.5 880.5,-173.5 880.5,-137.5 695.5,-137.5\"/>\n<text text-anchor=\"middle\" x=\"707\" y=\"-151.8\" font-family=\"Times,serif\" font-size=\"14.00\">b</text>\n<polyline fill=\"none\" stroke=\"black\" points=\"718.5,-137.5 718.5,-173.5 \"/>\n<text text-anchor=\"middle\" x=\"758.5\" y=\"-151.8\" font-family=\"Times,serif\" font-size=\"14.00\">data 6.8814</text>\n<polyline fill=\"none\" stroke=\"black\" points=\"798.5,-137.5 798.5,-173.5 \"/>\n<text text-anchor=\"middle\" x=\"839.5\" y=\"-151.8\" font-family=\"Times,serif\" font-size=\"14.00\">grad 0.5000</text>\n</g>\n<!-- 137247244954320&#45;&gt;137247244949136+ -->\n<g id=\"edge12\" class=\"edge\">\n<title>137247244954320&#45;&gt;137247244949136+</title>\n<path fill=\"none\" stroke=\"black\" d=\"M880.77,-141.46C900.52,-138.44 920.26,-135.42 936.29,-132.96\"/>\n<polygon fill=\"black\" stroke=\"black\" points=\"936.9,-136.41 946.26,-131.44 935.85,-129.49 936.9,-136.41\"/>\n</g>\n<!-- 137247244947216 -->\n<g id=\"node11\" class=\"node\">\n<title>137247244947216</title>\n<polygon fill=\"none\" stroke=\"black\" points=\"4,-55.5 4,-91.5 196,-91.5 196,-55.5 4,-55.5\"/>\n<text text-anchor=\"middle\" x=\"19\" y=\"-69.8\" font-family=\"Times,serif\" font-size=\"14.00\">x2</text>\n<polyline fill=\"none\" stroke=\"black\" points=\"34,-55.5 34,-91.5 \"/>\n<text text-anchor=\"middle\" x=\"74\" y=\"-69.8\" font-family=\"Times,serif\" font-size=\"14.00\">data 0.0000</text>\n<polyline fill=\"none\" stroke=\"black\" points=\"114,-55.5 114,-91.5 \"/>\n<text text-anchor=\"middle\" x=\"155\" y=\"-69.8\" font-family=\"Times,serif\" font-size=\"14.00\">grad 0.5000</text>\n</g>\n<!-- 137247244947216&#45;&gt;137247244951584* -->\n<g id=\"edge7\" class=\"edge\">\n<title>137247244947216&#45;&gt;137247244951584*</title>\n<path fill=\"none\" stroke=\"black\" d=\"M196.05,-73.5C206.52,-73.5 216.65,-73.5 225.71,-73.5\"/>\n<polygon fill=\"black\" stroke=\"black\" points=\"225.79,-77 235.79,-73.5 225.79,-70 225.79,-77\"/>\n</g>\n<!-- 137247244957008 -->\n<g id=\"node12\" class=\"node\">\n<title>137247244957008</title>\n<polygon fill=\"none\" stroke=\"black\" points=\"2,-110.5 2,-146.5 198,-146.5 198,-110.5 2,-110.5\"/>\n<text text-anchor=\"middle\" x=\"17\" y=\"-124.8\" font-family=\"Times,serif\" font-size=\"14.00\">x1</text>\n<polyline fill=\"none\" stroke=\"black\" points=\"32,-110.5 32,-146.5 \"/>\n<text text-anchor=\"middle\" x=\"72\" y=\"-124.8\" font-family=\"Times,serif\" font-size=\"14.00\">data 2.0000</text>\n<polyline fill=\"none\" stroke=\"black\" points=\"112,-110.5 112,-146.5 \"/>\n<text text-anchor=\"middle\" x=\"155\" y=\"-124.8\" font-family=\"Times,serif\" font-size=\"14.00\">grad &#45;1.5000</text>\n</g>\n<!-- 137247244957008&#45;&gt;137247244949376* -->\n<g id=\"edge8\" class=\"edge\">\n<title>137247244957008&#45;&gt;137247244949376*</title>\n<path fill=\"none\" stroke=\"black\" d=\"M198.37,-128.5C208.05,-128.5 217.4,-128.5 225.8,-128.5\"/>\n<polygon fill=\"black\" stroke=\"black\" points=\"225.91,-132 235.91,-128.5 225.91,-125 225.91,-132\"/>\n</g>\n<!-- 137247244949376 -->\n<g id=\"node13\" class=\"node\">\n<title>137247244949376</title>\n<polygon fill=\"none\" stroke=\"black\" points=\"326,-110.5 326,-146.5 540,-146.5 540,-110.5 326,-110.5\"/>\n<text text-anchor=\"middle\" x=\"349.5\" y=\"-124.8\" font-family=\"Times,serif\" font-size=\"14.00\">x1w1</text>\n<polyline fill=\"none\" stroke=\"black\" points=\"373,-110.5 373,-146.5 \"/>\n<text text-anchor=\"middle\" x=\"415.5\" y=\"-124.8\" font-family=\"Times,serif\" font-size=\"14.00\">data &#45;6.0000</text>\n<polyline fill=\"none\" stroke=\"black\" points=\"458,-110.5 458,-146.5 \"/>\n<text text-anchor=\"middle\" x=\"499\" y=\"-124.8\" font-family=\"Times,serif\" font-size=\"14.00\">grad 0.5000</text>\n</g>\n<!-- 137247244949376&#45;&gt;137247244951248+ -->\n<g id=\"edge10\" class=\"edge\">\n<title>137247244949376&#45;&gt;137247244951248+</title>\n<path fill=\"none\" stroke=\"black\" d=\"M540.4,-110.77C549.72,-109.21 558.65,-107.72 566.68,-106.39\"/>\n<polygon fill=\"black\" stroke=\"black\" points=\"567.38,-109.82 576.66,-104.72 566.22,-102.91 567.38,-109.82\"/>\n</g>\n<!-- 137247244949376*&#45;&gt;137247244949376 -->\n<g id=\"edge5\" class=\"edge\">\n<title>137247244949376*&#45;&gt;137247244949376</title>\n<path fill=\"none\" stroke=\"black\" d=\"M290.25,-128.5C297.7,-128.5 306.34,-128.5 315.59,-128.5\"/>\n<polygon fill=\"black\" stroke=\"black\" points=\"315.84,-132 325.84,-128.5 315.84,-125 315.84,-132\"/>\n</g>\n<!-- 137247244957104 -->\n<g id=\"node15\" class=\"node\">\n<title>137247244957104</title>\n<polygon fill=\"none\" stroke=\"black\" points=\"2.5,-0.5 2.5,-36.5 197.5,-36.5 197.5,-0.5 2.5,-0.5\"/>\n<text text-anchor=\"middle\" x=\"19\" y=\"-14.8\" font-family=\"Times,serif\" font-size=\"14.00\">w2</text>\n<polyline fill=\"none\" stroke=\"black\" points=\"35.5,-0.5 35.5,-36.5 \"/>\n<text text-anchor=\"middle\" x=\"75.5\" y=\"-14.8\" font-family=\"Times,serif\" font-size=\"14.00\">data 1.0000</text>\n<polyline fill=\"none\" stroke=\"black\" points=\"115.5,-0.5 115.5,-36.5 \"/>\n<text text-anchor=\"middle\" x=\"156.5\" y=\"-14.8\" font-family=\"Times,serif\" font-size=\"14.00\">grad 0.0000</text>\n</g>\n<!-- 137247244957104&#45;&gt;137247244951584* -->\n<g id=\"edge6\" class=\"edge\">\n<title>137247244957104&#45;&gt;137247244951584*</title>\n<path fill=\"none\" stroke=\"black\" d=\"M169.28,-36.5C179.65,-39.61 190.16,-42.98 200,-46.5 210.28,-50.17 221.28,-54.74 231.11,-59.07\"/>\n<polygon fill=\"black\" stroke=\"black\" points=\"229.93,-62.37 240.48,-63.27 232.79,-55.99 229.93,-62.37\"/>\n</g>\n</g>\n</svg>\n",
            "text/plain": [
              "<graphviz.graphs.Digraph at 0x7cd35d5fa710>"
            ]
          },
          "metadata": {},
          "execution_count": 43
        }
      ]
    },
    {
      "cell_type": "code",
      "source": [
        "o.backward()"
      ],
      "metadata": {
        "id": "qoVs7AU8WuVs"
      },
      "execution_count": 42,
      "outputs": []
    },
    {
      "cell_type": "code",
      "source": [
        "o.grad = 1.0\n",
        "\n",
        "o._backward()\n",
        "\n",
        "n._backward()\n",
        "\n",
        "x1w1x2w2._backward()\n",
        "\n",
        "b._backward()\n",
        "\n",
        "x1w1._backward()\n",
        "\n",
        "x2w2._backward()\n",
        "\n",
        "w1._backward()\n",
        "\n",
        "w2._backward()\n",
        "\n",
        "x1._backward()\n",
        "\n",
        "x2._backward()\n"
      ],
      "metadata": {
        "id": "cCFALGMAUaaO"
      },
      "execution_count": 34,
      "outputs": []
    },
    {
      "cell_type": "code",
      "source": [
        "# o.grad = 1.0\n",
        "\n",
        "# n.grad = 1 - o.data**2\n",
        "\n",
        "# x1w1x2w2.grad = 1.0 * n.grad\n",
        "# b.grad = 1.0 * n.grad\n",
        "\n",
        "# x1w1.grad = 1.0 * x1w1x2w2.grad\n",
        "# x2w2.grad = 1.0 * x1w1x2w2.grad\n",
        "\n",
        "# x1.grad = w1.data * x1w1.grad\n",
        "# w1.grad = x1.data * x1w1.grad\n",
        "\n",
        "# x2.grad = w2.data * x2w2.grad\n",
        "# w2.grad = x2.data * x2w2.grad"
      ],
      "metadata": {
        "id": "5pn1KuyOBGs8"
      },
      "execution_count": 35,
      "outputs": []
    },
    {
      "cell_type": "code",
      "source": [
        "topo = []\n",
        "visited = set()\n",
        "\n",
        "def build_topo(v):\n",
        "  if v not in visited:\n",
        "    visited.add(v)\n",
        "    for child in v._prev:\n",
        "      build_topo(child)\n",
        "    topo.append(v)\n",
        "build_topo(o)\n",
        "topo"
      ],
      "metadata": {
        "colab": {
          "base_uri": "https://localhost:8080/"
        },
        "id": "0nuZ6sqCSaSD",
        "outputId": "a3638f83-38f6-4da0-cad4-1697f9d4a186"
      },
      "execution_count": 36,
      "outputs": [
        {
          "output_type": "execute_result",
          "data": {
            "text/plain": [
              "[Value(-3.0),\n",
              " Value(2.0),\n",
              " Value(-6.0),\n",
              " Value(0.0),\n",
              " Value(1.0),\n",
              " Value(0.0),\n",
              " Value(-6.0),\n",
              " Value(6.881373587019543),\n",
              " Value(0.8813735870195432),\n",
              " Value(0.7071067811865476)]"
            ]
          },
          "metadata": {},
          "execution_count": 36
        }
      ]
    },
    {
      "cell_type": "code",
      "source": [
        "## here's a bug that needs to be fixed : overriding gradient\n",
        "\n",
        "a = Value(3.0, label='a')\n",
        "b = a + a ; b.label='b'\n",
        "b.backward()\n"
      ],
      "metadata": {
        "id": "JBHLqnCaV9PL"
      },
      "execution_count": 51,
      "outputs": []
    },
    {
      "cell_type": "code",
      "source": [
        "draw_dot(b)"
      ],
      "metadata": {
        "colab": {
          "base_uri": "https://localhost:8080/",
          "height": 81
        },
        "id": "oT9jCTMqaEbl",
        "outputId": "eea76c78-7a60-45e9-e1d6-9aa8e3919831"
      },
      "execution_count": 52,
      "outputs": [
        {
          "output_type": "execute_result",
          "data": {
            "image/svg+xml": "<?xml version=\"1.0\" encoding=\"UTF-8\" standalone=\"no\"?>\n<!DOCTYPE svg PUBLIC \"-//W3C//DTD SVG 1.1//EN\"\n \"http://www.w3.org/Graphics/SVG/1.1/DTD/svg11.dtd\">\n<!-- Generated by graphviz version 2.43.0 (0)\n -->\n<!-- Title: %3 Pages: 1 -->\n<svg width=\"504pt\" height=\"45pt\"\n viewBox=\"0.00 0.00 504.00 45.00\" xmlns=\"http://www.w3.org/2000/svg\" xmlns:xlink=\"http://www.w3.org/1999/xlink\">\n<g id=\"graph0\" class=\"graph\" transform=\"scale(1 1) rotate(0) translate(4 41)\">\n<title>%3</title>\n<polygon fill=\"white\" stroke=\"transparent\" points=\"-4,4 -4,-41 500,-41 500,4 -4,4\"/>\n<!-- 137247244957440 -->\n<g id=\"node1\" class=\"node\">\n<title>137247244957440</title>\n<polygon fill=\"none\" stroke=\"black\" points=\"311,-0.5 311,-36.5 496,-36.5 496,-0.5 311,-0.5\"/>\n<text text-anchor=\"middle\" x=\"322.5\" y=\"-14.8\" font-family=\"Times,serif\" font-size=\"14.00\">b</text>\n<polyline fill=\"none\" stroke=\"black\" points=\"334,-0.5 334,-36.5 \"/>\n<text text-anchor=\"middle\" x=\"374\" y=\"-14.8\" font-family=\"Times,serif\" font-size=\"14.00\">data 6.0000</text>\n<polyline fill=\"none\" stroke=\"black\" points=\"414,-0.5 414,-36.5 \"/>\n<text text-anchor=\"middle\" x=\"455\" y=\"-14.8\" font-family=\"Times,serif\" font-size=\"14.00\">grad 1.0000</text>\n</g>\n<!-- 137247244957440+ -->\n<g id=\"node2\" class=\"node\">\n<title>137247244957440+</title>\n<ellipse fill=\"none\" stroke=\"black\" cx=\"248\" cy=\"-18.5\" rx=\"27\" ry=\"18\"/>\n<text text-anchor=\"middle\" x=\"248\" y=\"-14.8\" font-family=\"Times,serif\" font-size=\"14.00\">+</text>\n</g>\n<!-- 137247244957440+&#45;&gt;137247244957440 -->\n<g id=\"edge1\" class=\"edge\">\n<title>137247244957440+&#45;&gt;137247244957440</title>\n<path fill=\"none\" stroke=\"black\" d=\"M275.04,-18.5C282.58,-18.5 291.3,-18.5 300.57,-18.5\"/>\n<polygon fill=\"black\" stroke=\"black\" points=\"300.81,-22 310.81,-18.5 300.81,-15 300.81,-22\"/>\n</g>\n<!-- 137247244947984 -->\n<g id=\"node3\" class=\"node\">\n<title>137247244947984</title>\n<polygon fill=\"none\" stroke=\"black\" points=\"0,-0.5 0,-36.5 185,-36.5 185,-0.5 0,-0.5\"/>\n<text text-anchor=\"middle\" x=\"11.5\" y=\"-14.8\" font-family=\"Times,serif\" font-size=\"14.00\">a</text>\n<polyline fill=\"none\" stroke=\"black\" points=\"23,-0.5 23,-36.5 \"/>\n<text text-anchor=\"middle\" x=\"63\" y=\"-14.8\" font-family=\"Times,serif\" font-size=\"14.00\">data 3.0000</text>\n<polyline fill=\"none\" stroke=\"black\" points=\"103,-0.5 103,-36.5 \"/>\n<text text-anchor=\"middle\" x=\"144\" y=\"-14.8\" font-family=\"Times,serif\" font-size=\"14.00\">grad 2.0000</text>\n</g>\n<!-- 137247244947984&#45;&gt;137247244957440+ -->\n<g id=\"edge2\" class=\"edge\">\n<title>137247244947984&#45;&gt;137247244957440+</title>\n<path fill=\"none\" stroke=\"black\" d=\"M185.01,-18.5C194.01,-18.5 202.74,-18.5 210.66,-18.5\"/>\n<polygon fill=\"black\" stroke=\"black\" points=\"210.91,-22 220.91,-18.5 210.91,-15 210.91,-22\"/>\n</g>\n</g>\n</svg>\n",
            "text/plain": [
              "<graphviz.graphs.Digraph at 0x7cd35d483070>"
            ]
          },
          "metadata": {},
          "execution_count": 52
        }
      ]
    },
    {
      "cell_type": "code",
      "source": [
        "a = Value(-2.0, label='a')\n",
        "b = Value(3.0, label='b')\n",
        "d = a*b ; d.label='d'\n",
        "e = a + b ; e.label='e'\n",
        "f = d * e ; f.label='f'\n",
        "f.backward()\n",
        "\n",
        "draw_dot(f)"
      ],
      "metadata": {
        "colab": {
          "base_uri": "https://localhost:8080/",
          "height": 154
        },
        "id": "gm0TDW4uY1F4",
        "outputId": "defc3f36-3188-4456-e40d-18bc9ab11fd2"
      },
      "execution_count": 54,
      "outputs": [
        {
          "output_type": "execute_result",
          "data": {
            "image/svg+xml": "<?xml version=\"1.0\" encoding=\"UTF-8\" standalone=\"no\"?>\n<!DOCTYPE svg PUBLIC \"-//W3C//DTD SVG 1.1//EN\"\n \"http://www.w3.org/Graphics/SVG/1.1/DTD/svg11.dtd\">\n<!-- Generated by graphviz version 2.43.0 (0)\n -->\n<!-- Title: %3 Pages: 1 -->\n<svg width=\"832pt\" height=\"100pt\"\n viewBox=\"0.00 0.00 832.00 100.00\" xmlns=\"http://www.w3.org/2000/svg\" xmlns:xlink=\"http://www.w3.org/1999/xlink\">\n<g id=\"graph0\" class=\"graph\" transform=\"scale(1 1) rotate(0) translate(4 96)\">\n<title>%3</title>\n<polygon fill=\"white\" stroke=\"transparent\" points=\"-4,4 -4,-96 828,-96 828,4 -4,4\"/>\n<!-- 137247244948560 -->\n<g id=\"node1\" class=\"node\">\n<title>137247244948560</title>\n<polygon fill=\"none\" stroke=\"black\" points=\"0,-55.5 0,-91.5 194,-91.5 194,-55.5 0,-55.5\"/>\n<text text-anchor=\"middle\" x=\"11.5\" y=\"-69.8\" font-family=\"Times,serif\" font-size=\"14.00\">a</text>\n<polyline fill=\"none\" stroke=\"black\" points=\"23,-55.5 23,-91.5 \"/>\n<text text-anchor=\"middle\" x=\"65.5\" y=\"-69.8\" font-family=\"Times,serif\" font-size=\"14.00\">data &#45;2.0000</text>\n<polyline fill=\"none\" stroke=\"black\" points=\"108,-55.5 108,-91.5 \"/>\n<text text-anchor=\"middle\" x=\"151\" y=\"-69.8\" font-family=\"Times,serif\" font-size=\"14.00\">grad &#45;3.0000</text>\n</g>\n<!-- 137247244945008* -->\n<g id=\"node3\" class=\"node\">\n<title>137247244945008*</title>\n<ellipse fill=\"none\" stroke=\"black\" cx=\"257\" cy=\"-73.5\" rx=\"27\" ry=\"18\"/>\n<text text-anchor=\"middle\" x=\"257\" y=\"-69.8\" font-family=\"Times,serif\" font-size=\"14.00\">*</text>\n</g>\n<!-- 137247244948560&#45;&gt;137247244945008* -->\n<g id=\"edge5\" class=\"edge\">\n<title>137247244948560&#45;&gt;137247244945008*</title>\n<path fill=\"none\" stroke=\"black\" d=\"M194.01,-73.5C202.98,-73.5 211.65,-73.5 219.51,-73.5\"/>\n<polygon fill=\"black\" stroke=\"black\" points=\"219.7,-77 229.7,-73.5 219.7,-70 219.7,-77\"/>\n</g>\n<!-- 137247244959360+ -->\n<g id=\"node5\" class=\"node\">\n<title>137247244959360+</title>\n<ellipse fill=\"none\" stroke=\"black\" cx=\"257\" cy=\"-18.5\" rx=\"27\" ry=\"18\"/>\n<text text-anchor=\"middle\" x=\"257\" y=\"-14.8\" font-family=\"Times,serif\" font-size=\"14.00\">+</text>\n</g>\n<!-- 137247244948560&#45;&gt;137247244959360+ -->\n<g id=\"edge4\" class=\"edge\">\n<title>137247244948560&#45;&gt;137247244959360+</title>\n<path fill=\"none\" stroke=\"black\" d=\"M166.84,-55.49C176.04,-52.69 185.3,-49.67 194,-46.5 204.51,-42.67 215.73,-37.84 225.7,-33.28\"/>\n<polygon fill=\"black\" stroke=\"black\" points=\"227.23,-36.43 234.81,-29.02 224.27,-30.09 227.23,-36.43\"/>\n</g>\n<!-- 137247244945008 -->\n<g id=\"node2\" class=\"node\">\n<title>137247244945008</title>\n<polygon fill=\"none\" stroke=\"black\" points=\"320,-55.5 320,-91.5 510,-91.5 510,-55.5 320,-55.5\"/>\n<text text-anchor=\"middle\" x=\"331.5\" y=\"-69.8\" font-family=\"Times,serif\" font-size=\"14.00\">d</text>\n<polyline fill=\"none\" stroke=\"black\" points=\"343,-55.5 343,-91.5 \"/>\n<text text-anchor=\"middle\" x=\"385.5\" y=\"-69.8\" font-family=\"Times,serif\" font-size=\"14.00\">data &#45;6.0000</text>\n<polyline fill=\"none\" stroke=\"black\" points=\"428,-55.5 428,-91.5 \"/>\n<text text-anchor=\"middle\" x=\"469\" y=\"-69.8\" font-family=\"Times,serif\" font-size=\"14.00\">grad 1.0000</text>\n</g>\n<!-- 137247244944528* -->\n<g id=\"node7\" class=\"node\">\n<title>137247244944528*</title>\n<ellipse fill=\"none\" stroke=\"black\" cx=\"573\" cy=\"-45.5\" rx=\"27\" ry=\"18\"/>\n<text text-anchor=\"middle\" x=\"573\" y=\"-41.8\" font-family=\"Times,serif\" font-size=\"14.00\">*</text>\n</g>\n<!-- 137247244945008&#45;&gt;137247244944528* -->\n<g id=\"edge6\" class=\"edge\">\n<title>137247244945008&#45;&gt;137247244944528*</title>\n<path fill=\"none\" stroke=\"black\" d=\"M510.34,-56.57C519.62,-54.9 528.58,-53.29 536.66,-51.84\"/>\n<polygon fill=\"black\" stroke=\"black\" points=\"537.49,-55.25 546.72,-50.04 536.26,-48.36 537.49,-55.25\"/>\n</g>\n<!-- 137247244945008*&#45;&gt;137247244945008 -->\n<g id=\"edge1\" class=\"edge\">\n<title>137247244945008*&#45;&gt;137247244945008</title>\n<path fill=\"none\" stroke=\"black\" d=\"M284.11,-73.5C291.63,-73.5 300.32,-73.5 309.58,-73.5\"/>\n<polygon fill=\"black\" stroke=\"black\" points=\"309.81,-77 319.81,-73.5 309.81,-70 309.81,-77\"/>\n</g>\n<!-- 137247244959360 -->\n<g id=\"node4\" class=\"node\">\n<title>137247244959360</title>\n<polygon fill=\"none\" stroke=\"black\" points=\"320.5,-0.5 320.5,-36.5 509.5,-36.5 509.5,-0.5 320.5,-0.5\"/>\n<text text-anchor=\"middle\" x=\"332\" y=\"-14.8\" font-family=\"Times,serif\" font-size=\"14.00\">e</text>\n<polyline fill=\"none\" stroke=\"black\" points=\"343.5,-0.5 343.5,-36.5 \"/>\n<text text-anchor=\"middle\" x=\"383.5\" y=\"-14.8\" font-family=\"Times,serif\" font-size=\"14.00\">data 1.0000</text>\n<polyline fill=\"none\" stroke=\"black\" points=\"423.5,-0.5 423.5,-36.5 \"/>\n<text text-anchor=\"middle\" x=\"466.5\" y=\"-14.8\" font-family=\"Times,serif\" font-size=\"14.00\">grad &#45;6.0000</text>\n</g>\n<!-- 137247244959360&#45;&gt;137247244944528* -->\n<g id=\"edge7\" class=\"edge\">\n<title>137247244959360&#45;&gt;137247244944528*</title>\n<path fill=\"none\" stroke=\"black\" d=\"M509.9,-34.75C519.33,-36.38 528.45,-37.96 536.65,-39.38\"/>\n<polygon fill=\"black\" stroke=\"black\" points=\"536.06,-42.83 546.51,-41.09 537.26,-35.93 536.06,-42.83\"/>\n</g>\n<!-- 137247244959360+&#45;&gt;137247244959360 -->\n<g id=\"edge2\" class=\"edge\">\n<title>137247244959360+&#45;&gt;137247244959360</title>\n<path fill=\"none\" stroke=\"black\" d=\"M284.11,-18.5C291.84,-18.5 300.8,-18.5 310.35,-18.5\"/>\n<polygon fill=\"black\" stroke=\"black\" points=\"310.48,-22 320.48,-18.5 310.48,-15 310.48,-22\"/>\n</g>\n<!-- 137247244944528 -->\n<g id=\"node6\" class=\"node\">\n<title>137247244944528</title>\n<polygon fill=\"none\" stroke=\"black\" points=\"636,-27.5 636,-63.5 824,-63.5 824,-27.5 636,-27.5\"/>\n<text text-anchor=\"middle\" x=\"646.5\" y=\"-41.8\" font-family=\"Times,serif\" font-size=\"14.00\">f</text>\n<polyline fill=\"none\" stroke=\"black\" points=\"657,-27.5 657,-63.5 \"/>\n<text text-anchor=\"middle\" x=\"699.5\" y=\"-41.8\" font-family=\"Times,serif\" font-size=\"14.00\">data &#45;6.0000</text>\n<polyline fill=\"none\" stroke=\"black\" points=\"742,-27.5 742,-63.5 \"/>\n<text text-anchor=\"middle\" x=\"783\" y=\"-41.8\" font-family=\"Times,serif\" font-size=\"14.00\">grad 1.0000</text>\n</g>\n<!-- 137247244944528*&#45;&gt;137247244944528 -->\n<g id=\"edge3\" class=\"edge\">\n<title>137247244944528*&#45;&gt;137247244944528</title>\n<path fill=\"none\" stroke=\"black\" d=\"M600.29,-45.5C607.78,-45.5 616.42,-45.5 625.6,-45.5\"/>\n<polygon fill=\"black\" stroke=\"black\" points=\"625.76,-49 635.76,-45.5 625.76,-42 625.76,-49\"/>\n</g>\n<!-- 137247244958400 -->\n<g id=\"node8\" class=\"node\">\n<title>137247244958400</title>\n<polygon fill=\"none\" stroke=\"black\" points=\"2.5,-0.5 2.5,-36.5 191.5,-36.5 191.5,-0.5 2.5,-0.5\"/>\n<text text-anchor=\"middle\" x=\"14\" y=\"-14.8\" font-family=\"Times,serif\" font-size=\"14.00\">b</text>\n<polyline fill=\"none\" stroke=\"black\" points=\"25.5,-0.5 25.5,-36.5 \"/>\n<text text-anchor=\"middle\" x=\"65.5\" y=\"-14.8\" font-family=\"Times,serif\" font-size=\"14.00\">data 3.0000</text>\n<polyline fill=\"none\" stroke=\"black\" points=\"105.5,-0.5 105.5,-36.5 \"/>\n<text text-anchor=\"middle\" x=\"148.5\" y=\"-14.8\" font-family=\"Times,serif\" font-size=\"14.00\">grad &#45;8.0000</text>\n</g>\n<!-- 137247244958400&#45;&gt;137247244945008* -->\n<g id=\"edge9\" class=\"edge\">\n<title>137247244958400&#45;&gt;137247244945008*</title>\n<path fill=\"none\" stroke=\"black\" d=\"M163.94,-36.53C174.08,-39.65 184.37,-43.01 194,-46.5 204.27,-50.22 215.26,-54.8 225.09,-59.12\"/>\n<polygon fill=\"black\" stroke=\"black\" points=\"223.91,-62.43 234.47,-63.32 226.77,-56.04 223.91,-62.43\"/>\n</g>\n<!-- 137247244958400&#45;&gt;137247244959360+ -->\n<g id=\"edge8\" class=\"edge\">\n<title>137247244958400&#45;&gt;137247244959360+</title>\n<path fill=\"none\" stroke=\"black\" d=\"M191.74,-18.5C201.55,-18.5 211.04,-18.5 219.59,-18.5\"/>\n<polygon fill=\"black\" stroke=\"black\" points=\"219.87,-22 229.87,-18.5 219.87,-15 219.87,-22\"/>\n</g>\n</g>\n</svg>\n",
            "text/plain": [
              "<graphviz.graphs.Digraph at 0x7cd35d4825c0>"
            ]
          },
          "metadata": {},
          "execution_count": 54
        }
      ]
    },
    {
      "cell_type": "markdown",
      "source": [
        "## few more expression: substraction, division, ..."
      ],
      "metadata": {
        "id": "l2I6Tsaebsk7"
      }
    },
    {
      "cell_type": "code",
      "source": [
        "class Value:\n",
        "\n",
        "  def __init__(self, data, _children=(), _op='', label=''):\n",
        "    self.data = data\n",
        "    self.grad = 0.0\n",
        "    self._backward = lambda: None\n",
        "    self._prev = set(_children)\n",
        "    self._op = _op\n",
        "    self.label = label\n",
        "\n",
        "  def __repr__(self):\n",
        "    return f\"Value({self.data})\"\n",
        "\n",
        "  def __add__(self, other):\n",
        "    other = other if isinstance(other, Value) else Value(other)\n",
        "    out = Value(self.data + other.data, (self, other), '+')\n",
        "    def _backward():\n",
        "      self.grad += 1.0 * out.grad\n",
        "      other.grad += 1.0 * out.grad\n",
        "    out._backward = _backward\n",
        "    return out\n",
        "\n",
        "  ## 2 + x not work --> 2 + x --> works after this function\n",
        "  def __radd__(self, other):\n",
        "    return self + other\n",
        "\n",
        "  ## 2 * x not work --> x * 2 --> works after this function\n",
        "  def __rmul__(self, other):\n",
        "    return self * other\n",
        "\n",
        "  def __mul__(self, other):\n",
        "    other = other if isinstance(other, Value) else Value(other)\n",
        "    out = Value(self.data * other.data, (self, other), '*')\n",
        "    def _backward():\n",
        "      self.grad += other.data * out.grad\n",
        "      other.grad += self.data * out.grad\n",
        "    out._backward = _backward\n",
        "    return out\n",
        "\n",
        "  def __pow__(self, other):\n",
        "    assert isinstance(other, (int, float)), \"only supporting int/float powers for now\"\n",
        "    out = Value(self.data**other, (self, ), '**')\n",
        "    def _backward():\n",
        "      self.grad += (other * (self.data**(other-1))) * out.grad\n",
        "    out._backward = _backward\n",
        "    return out\n",
        "\n",
        "  def __truediv__(self, other): ## self / other\n",
        "    return self * other**-1\n",
        "\n",
        "  # def __neg__(self): # -self\n",
        "  #   return self * -1\n",
        "\n",
        "  def __sub__(self, other): # self - other\n",
        "    return self + (-1 * (other))\n",
        "\n",
        "  def tanh(self):\n",
        "    x = self.data\n",
        "    t = (math.exp(2*x) - 1)/(math.exp(2*x) + 1)\n",
        "    out = Value(t, (self, ), 'tanh')\n",
        "    def _backward():\n",
        "      self.grad += (1 - t**2) * out.grad\n",
        "    out._backward = _backward\n",
        "    return out\n",
        "\n",
        "  def exp(self):\n",
        "    x = self.data\n",
        "    out = Value(math.exp(x), (self, ), 'exp')\n",
        "    def _backward():\n",
        "      self.grad += out.data * out.grad\n",
        "    out._backward = _backward\n",
        "    return out\n",
        "\n",
        "  def backward(self):\n",
        "\n",
        "    topo = []\n",
        "    visited = set()\n",
        "    def build_topo(v):\n",
        "      if v not in visited:\n",
        "        visited.add(v)\n",
        "        for child in v._prev:\n",
        "          build_topo(child)\n",
        "        topo.append(v)\n",
        "    build_topo(self)\n",
        "    self.grad = 1.0\n",
        "\n",
        "    for node in reversed(topo):\n",
        "      node._backward()\n",
        "\n"
      ],
      "metadata": {
        "id": "grV8x3r4bahf"
      },
      "execution_count": 93,
      "outputs": []
    },
    {
      "cell_type": "code",
      "source": [
        "a = Value(2.0)\n",
        "2 * a"
      ],
      "metadata": {
        "colab": {
          "base_uri": "https://localhost:8080/"
        },
        "id": "UygGlpVdb8Ef",
        "outputId": "9d846e23-5771-448b-b405-9b6959b0b5ca"
      },
      "execution_count": 80,
      "outputs": [
        {
          "output_type": "execute_result",
          "data": {
            "text/plain": [
              "Value(4.0)"
            ]
          },
          "metadata": {},
          "execution_count": 80
        }
      ]
    },
    {
      "cell_type": "code",
      "source": [
        "a = Value(2.0)\n",
        "b = Value(4.0)\n",
        "a.__sub__(b)"
      ],
      "metadata": {
        "colab": {
          "base_uri": "https://localhost:8080/"
        },
        "id": "QPeOeDdYb_R7",
        "outputId": "54722cb7-8056-4dc9-86a3-0a86281f4689"
      },
      "execution_count": 94,
      "outputs": [
        {
          "output_type": "execute_result",
          "data": {
            "text/plain": [
              "Value(-2.0)"
            ]
          },
          "metadata": {},
          "execution_count": 94
        }
      ]
    },
    {
      "cell_type": "code",
      "source": [
        "x1 = Value(2.0, label='x1')\n",
        "x2 = Value(0.0, label='x2')\n",
        "\n",
        "w1 = Value(-3.0, label='w1')\n",
        "w2 = Value(1.0, label='w2')\n",
        "b = Value(6.8813735870195432, label='b')\n",
        "\n",
        "x1w1 = x1*w1; x1w1.label='x1w1'\n",
        "x2w2 = x2*w2; x2w2.label='x2w2'\n",
        "x1w1x2w2 = x1w1 + x2w2; x1w1x2w2.label='x1w1x2w2'\n",
        "n = x1w1x2w2 + b; n.label='n'\n",
        "\n",
        "# -------\n",
        "e = (2*n).exp()\n",
        "o = (e - 1 ) / (e + 1)\n",
        "# ------------\n",
        "o.label = 'o'\n",
        "o.backward()"
      ],
      "metadata": {
        "id": "77i1DOv3djQ2"
      },
      "execution_count": 100,
      "outputs": []
    },
    {
      "cell_type": "code",
      "source": [
        "draw_dot(o)"
      ],
      "metadata": {
        "colab": {
          "base_uri": "https://localhost:8080/",
          "height": 360
        },
        "id": "ShxktsddngN6",
        "outputId": "a5bd4260-e71c-4b6b-976c-25e1d691c071"
      },
      "execution_count": 101,
      "outputs": [
        {
          "output_type": "execute_result",
          "data": {
            "image/svg+xml": "<?xml version=\"1.0\" encoding=\"UTF-8\" standalone=\"no\"?>\n<!DOCTYPE svg PUBLIC \"-//W3C//DTD SVG 1.1//EN\"\n \"http://www.w3.org/Graphics/SVG/1.1/DTD/svg11.dtd\">\n<!-- Generated by graphviz version 2.43.0 (0)\n -->\n<!-- Title: %3 Pages: 1 -->\n<svg width=\"2909pt\" height=\"239pt\"\n viewBox=\"0.00 0.00 2909.00 239.00\" xmlns=\"http://www.w3.org/2000/svg\" xmlns:xlink=\"http://www.w3.org/1999/xlink\">\n<g id=\"graph0\" class=\"graph\" transform=\"scale(1 1) rotate(0) translate(4 235)\">\n<title>%3</title>\n<polygon fill=\"white\" stroke=\"transparent\" points=\"-4,4 -4,-235 2905,-235 2905,4 -4,4\"/>\n<!-- 137247244284976 -->\n<g id=\"node1\" class=\"node\">\n<title>137247244284976</title>\n<polygon fill=\"none\" stroke=\"black\" points=\"4,-194.5 4,-230.5 196,-230.5 196,-194.5 4,-194.5\"/>\n<text text-anchor=\"middle\" x=\"19\" y=\"-208.8\" font-family=\"Times,serif\" font-size=\"14.00\">x2</text>\n<polyline fill=\"none\" stroke=\"black\" points=\"34,-194.5 34,-230.5 \"/>\n<text text-anchor=\"middle\" x=\"74\" y=\"-208.8\" font-family=\"Times,serif\" font-size=\"14.00\">data 0.0000</text>\n<polyline fill=\"none\" stroke=\"black\" points=\"114,-194.5 114,-230.5 \"/>\n<text text-anchor=\"middle\" x=\"155\" y=\"-208.8\" font-family=\"Times,serif\" font-size=\"14.00\">grad 0.5000</text>\n</g>\n<!-- 137247244277056* -->\n<g id=\"node17\" class=\"node\">\n<title>137247244277056*</title>\n<ellipse fill=\"none\" stroke=\"black\" cx=\"263\" cy=\"-157.5\" rx=\"27\" ry=\"18\"/>\n<text text-anchor=\"middle\" x=\"263\" y=\"-153.8\" font-family=\"Times,serif\" font-size=\"14.00\">*</text>\n</g>\n<!-- 137247244284976&#45;&gt;137247244277056* -->\n<g id=\"edge24\" class=\"edge\">\n<title>137247244284976&#45;&gt;137247244277056*</title>\n<path fill=\"none\" stroke=\"black\" d=\"M172.53,-194.44C181.84,-191.67 191.2,-188.67 200,-185.5 210.53,-181.71 221.75,-176.9 231.72,-172.33\"/>\n<polygon fill=\"black\" stroke=\"black\" points=\"233.25,-175.48 240.82,-168.07 230.28,-169.14 233.25,-175.48\"/>\n</g>\n<!-- 137247244277872 -->\n<g id=\"node2\" class=\"node\">\n<title>137247244277872</title>\n<polygon fill=\"none\" stroke=\"black\" points=\"1037.5,-28.5 1037.5,-64.5 1219.5,-64.5 1219.5,-28.5 1037.5,-28.5\"/>\n<text text-anchor=\"middle\" x=\"1047.5\" y=\"-42.8\" font-family=\"Times,serif\" font-size=\"14.00\"> </text>\n<polyline fill=\"none\" stroke=\"black\" points=\"1057.5,-28.5 1057.5,-64.5 \"/>\n<text text-anchor=\"middle\" x=\"1097.5\" y=\"-42.8\" font-family=\"Times,serif\" font-size=\"14.00\">data 2.0000</text>\n<polyline fill=\"none\" stroke=\"black\" points=\"1137.5,-28.5 1137.5,-64.5 \"/>\n<text text-anchor=\"middle\" x=\"1178.5\" y=\"-42.8\" font-family=\"Times,serif\" font-size=\"14.00\">grad 0.2203</text>\n</g>\n<!-- 137247244287712* -->\n<g id=\"node11\" class=\"node\">\n<title>137247244287712*</title>\n<ellipse fill=\"none\" stroke=\"black\" cx=\"1284\" cy=\"-73.5\" rx=\"27\" ry=\"18\"/>\n<text text-anchor=\"middle\" x=\"1284\" y=\"-69.8\" font-family=\"Times,serif\" font-size=\"14.00\">*</text>\n</g>\n<!-- 137247244277872&#45;&gt;137247244287712* -->\n<g id=\"edge25\" class=\"edge\">\n<title>137247244277872&#45;&gt;137247244287712*</title>\n<path fill=\"none\" stroke=\"black\" d=\"M1219.68,-62.36C1229.61,-64.11 1239.23,-65.8 1247.84,-67.32\"/>\n<polygon fill=\"black\" stroke=\"black\" points=\"1247.36,-70.78 1257.81,-69.07 1248.57,-63.89 1247.36,-70.78\"/>\n</g>\n<!-- 137247244274848 -->\n<g id=\"node3\" class=\"node\">\n<title>137247244274848</title>\n<polygon fill=\"none\" stroke=\"black\" points=\"695.5,-56.5 695.5,-92.5 880.5,-92.5 880.5,-56.5 695.5,-56.5\"/>\n<text text-anchor=\"middle\" x=\"707\" y=\"-70.8\" font-family=\"Times,serif\" font-size=\"14.00\">b</text>\n<polyline fill=\"none\" stroke=\"black\" points=\"718.5,-56.5 718.5,-92.5 \"/>\n<text text-anchor=\"middle\" x=\"758.5\" y=\"-70.8\" font-family=\"Times,serif\" font-size=\"14.00\">data 6.8814</text>\n<polyline fill=\"none\" stroke=\"black\" points=\"798.5,-56.5 798.5,-92.5 \"/>\n<text text-anchor=\"middle\" x=\"839.5\" y=\"-70.8\" font-family=\"Times,serif\" font-size=\"14.00\">grad 0.5000</text>\n</g>\n<!-- 137247244286128+ -->\n<g id=\"node5\" class=\"node\">\n<title>137247244286128+</title>\n<ellipse fill=\"none\" stroke=\"black\" cx=\"973\" cy=\"-101.5\" rx=\"27\" ry=\"18\"/>\n<text text-anchor=\"middle\" x=\"973\" y=\"-97.8\" font-family=\"Times,serif\" font-size=\"14.00\">+</text>\n</g>\n<!-- 137247244274848&#45;&gt;137247244286128+ -->\n<g id=\"edge11\" class=\"edge\">\n<title>137247244274848&#45;&gt;137247244286128+</title>\n<path fill=\"none\" stroke=\"black\" d=\"M880.77,-88.04C900.52,-90.95 920.26,-93.87 936.29,-96.23\"/>\n<polygon fill=\"black\" stroke=\"black\" points=\"935.86,-99.71 946.26,-97.7 936.88,-92.78 935.86,-99.71\"/>\n</g>\n<!-- 137247244286128 -->\n<g id=\"node4\" class=\"node\">\n<title>137247244286128</title>\n<polygon fill=\"none\" stroke=\"black\" points=\"1036,-83.5 1036,-119.5 1221,-119.5 1221,-83.5 1036,-83.5\"/>\n<text text-anchor=\"middle\" x=\"1047.5\" y=\"-97.8\" font-family=\"Times,serif\" font-size=\"14.00\">n</text>\n<polyline fill=\"none\" stroke=\"black\" points=\"1059,-83.5 1059,-119.5 \"/>\n<text text-anchor=\"middle\" x=\"1099\" y=\"-97.8\" font-family=\"Times,serif\" font-size=\"14.00\">data 0.8814</text>\n<polyline fill=\"none\" stroke=\"black\" points=\"1139,-83.5 1139,-119.5 \"/>\n<text text-anchor=\"middle\" x=\"1180\" y=\"-97.8\" font-family=\"Times,serif\" font-size=\"14.00\">grad 0.5000</text>\n</g>\n<!-- 137247244286128&#45;&gt;137247244287712* -->\n<g id=\"edge20\" class=\"edge\">\n<title>137247244286128&#45;&gt;137247244287712*</title>\n<path fill=\"none\" stroke=\"black\" d=\"M1221.01,-84.81C1230.49,-83.08 1239.66,-81.41 1247.9,-79.9\"/>\n<polygon fill=\"black\" stroke=\"black\" points=\"1248.6,-83.33 1257.81,-78.09 1247.35,-76.45 1248.6,-83.33\"/>\n</g>\n<!-- 137247244286128+&#45;&gt;137247244286128 -->\n<g id=\"edge1\" class=\"edge\">\n<title>137247244286128+&#45;&gt;137247244286128</title>\n<path fill=\"none\" stroke=\"black\" d=\"M1000.04,-101.5C1007.58,-101.5 1016.3,-101.5 1025.57,-101.5\"/>\n<polygon fill=\"black\" stroke=\"black\" points=\"1025.81,-105 1035.81,-101.5 1025.81,-98 1025.81,-105\"/>\n</g>\n<!-- 137247244272304 -->\n<g id=\"node6\" class=\"node\">\n<title>137247244272304</title>\n<polygon fill=\"none\" stroke=\"black\" points=\"326,-84.5 326,-120.5 540,-120.5 540,-84.5 326,-84.5\"/>\n<text text-anchor=\"middle\" x=\"349.5\" y=\"-98.8\" font-family=\"Times,serif\" font-size=\"14.00\">x1w1</text>\n<polyline fill=\"none\" stroke=\"black\" points=\"373,-84.5 373,-120.5 \"/>\n<text text-anchor=\"middle\" x=\"415.5\" y=\"-98.8\" font-family=\"Times,serif\" font-size=\"14.00\">data &#45;6.0000</text>\n<polyline fill=\"none\" stroke=\"black\" points=\"458,-84.5 458,-120.5 \"/>\n<text text-anchor=\"middle\" x=\"499\" y=\"-98.8\" font-family=\"Times,serif\" font-size=\"14.00\">grad 0.5000</text>\n</g>\n<!-- 137247244274608+ -->\n<g id=\"node9\" class=\"node\">\n<title>137247244274608+</title>\n<ellipse fill=\"none\" stroke=\"black\" cx=\"603\" cy=\"-129.5\" rx=\"27\" ry=\"18\"/>\n<text text-anchor=\"middle\" x=\"603\" y=\"-125.8\" font-family=\"Times,serif\" font-size=\"14.00\">+</text>\n</g>\n<!-- 137247244272304&#45;&gt;137247244274608+ -->\n<g id=\"edge23\" class=\"edge\">\n<title>137247244272304&#45;&gt;137247244274608+</title>\n<path fill=\"none\" stroke=\"black\" d=\"M540.4,-119.6C549.72,-121.1 558.65,-122.53 566.68,-123.82\"/>\n<polygon fill=\"black\" stroke=\"black\" points=\"566.24,-127.3 576.66,-125.43 567.35,-120.39 566.24,-127.3\"/>\n</g>\n<!-- 137247244272304* -->\n<g id=\"node7\" class=\"node\">\n<title>137247244272304*</title>\n<ellipse fill=\"none\" stroke=\"black\" cx=\"263\" cy=\"-102.5\" rx=\"27\" ry=\"18\"/>\n<text text-anchor=\"middle\" x=\"263\" y=\"-98.8\" font-family=\"Times,serif\" font-size=\"14.00\">*</text>\n</g>\n<!-- 137247244272304*&#45;&gt;137247244272304 -->\n<g id=\"edge2\" class=\"edge\">\n<title>137247244272304*&#45;&gt;137247244272304</title>\n<path fill=\"none\" stroke=\"black\" d=\"M290.25,-102.5C297.7,-102.5 306.34,-102.5 315.59,-102.5\"/>\n<polygon fill=\"black\" stroke=\"black\" points=\"315.84,-106 325.84,-102.5 315.84,-99 315.84,-106\"/>\n</g>\n<!-- 137247244274608 -->\n<g id=\"node8\" class=\"node\">\n<title>137247244274608</title>\n<polygon fill=\"none\" stroke=\"black\" points=\"666,-111.5 666,-147.5 910,-147.5 910,-111.5 666,-111.5\"/>\n<text text-anchor=\"middle\" x=\"704.5\" y=\"-125.8\" font-family=\"Times,serif\" font-size=\"14.00\">x1w1x2w2</text>\n<polyline fill=\"none\" stroke=\"black\" points=\"743,-111.5 743,-147.5 \"/>\n<text text-anchor=\"middle\" x=\"785.5\" y=\"-125.8\" font-family=\"Times,serif\" font-size=\"14.00\">data &#45;6.0000</text>\n<polyline fill=\"none\" stroke=\"black\" points=\"828,-111.5 828,-147.5 \"/>\n<text text-anchor=\"middle\" x=\"869\" y=\"-125.8\" font-family=\"Times,serif\" font-size=\"14.00\">grad 0.5000</text>\n</g>\n<!-- 137247244274608&#45;&gt;137247244286128+ -->\n<g id=\"edge21\" class=\"edge\">\n<title>137247244274608&#45;&gt;137247244286128+</title>\n<path fill=\"none\" stroke=\"black\" d=\"M906.71,-111.49C917.38,-109.86 927.53,-108.3 936.51,-106.93\"/>\n<polygon fill=\"black\" stroke=\"black\" points=\"937.13,-110.38 946.48,-105.4 936.07,-103.46 937.13,-110.38\"/>\n</g>\n<!-- 137247244274608+&#45;&gt;137247244274608 -->\n<g id=\"edge3\" class=\"edge\">\n<title>137247244274608+&#45;&gt;137247244274608</title>\n<path fill=\"none\" stroke=\"black\" d=\"M630.22,-129.5C637.7,-129.5 646.4,-129.5 655.79,-129.5\"/>\n<polygon fill=\"black\" stroke=\"black\" points=\"655.8,-133 665.8,-129.5 655.8,-126 655.8,-133\"/>\n</g>\n<!-- 137247244287712 -->\n<g id=\"node10\" class=\"node\">\n<title>137247244287712</title>\n<polygon fill=\"none\" stroke=\"black\" points=\"1347,-55.5 1347,-91.5 1529,-91.5 1529,-55.5 1347,-55.5\"/>\n<text text-anchor=\"middle\" x=\"1357\" y=\"-69.8\" font-family=\"Times,serif\" font-size=\"14.00\"> </text>\n<polyline fill=\"none\" stroke=\"black\" points=\"1367,-55.5 1367,-91.5 \"/>\n<text text-anchor=\"middle\" x=\"1407\" y=\"-69.8\" font-family=\"Times,serif\" font-size=\"14.00\">data 1.7627</text>\n<polyline fill=\"none\" stroke=\"black\" points=\"1447,-55.5 1447,-91.5 \"/>\n<text text-anchor=\"middle\" x=\"1488\" y=\"-69.8\" font-family=\"Times,serif\" font-size=\"14.00\">grad 0.2500</text>\n</g>\n<!-- 137247244282816exp -->\n<g id=\"node24\" class=\"node\">\n<title>137247244282816exp</title>\n<ellipse fill=\"none\" stroke=\"black\" cx=\"1592\" cy=\"-73.5\" rx=\"27\" ry=\"18\"/>\n<text text-anchor=\"middle\" x=\"1592\" y=\"-69.8\" font-family=\"Times,serif\" font-size=\"14.00\">exp</text>\n</g>\n<!-- 137247244287712&#45;&gt;137247244282816exp -->\n<g id=\"edge28\" class=\"edge\">\n<title>137247244287712&#45;&gt;137247244282816exp</title>\n<path fill=\"none\" stroke=\"black\" d=\"M1529.18,-73.5C1538.14,-73.5 1546.83,-73.5 1554.73,-73.5\"/>\n<polygon fill=\"black\" stroke=\"black\" points=\"1554.96,-77 1564.96,-73.5 1554.96,-70 1554.96,-77\"/>\n</g>\n<!-- 137247244287712*&#45;&gt;137247244287712 -->\n<g id=\"edge4\" class=\"edge\">\n<title>137247244287712*&#45;&gt;137247244287712</title>\n<path fill=\"none\" stroke=\"black\" d=\"M1311.13,-73.5C1318.67,-73.5 1327.39,-73.5 1336.64,-73.5\"/>\n<polygon fill=\"black\" stroke=\"black\" points=\"1336.87,-77 1346.87,-73.5 1336.87,-70 1336.87,-77\"/>\n</g>\n<!-- 137247244281520 -->\n<g id=\"node12\" class=\"node\">\n<title>137247244281520</title>\n<polygon fill=\"none\" stroke=\"black\" points=\"0,-84.5 0,-120.5 200,-120.5 200,-84.5 0,-84.5\"/>\n<text text-anchor=\"middle\" x=\"16.5\" y=\"-98.8\" font-family=\"Times,serif\" font-size=\"14.00\">w1</text>\n<polyline fill=\"none\" stroke=\"black\" points=\"33,-84.5 33,-120.5 \"/>\n<text text-anchor=\"middle\" x=\"75.5\" y=\"-98.8\" font-family=\"Times,serif\" font-size=\"14.00\">data &#45;3.0000</text>\n<polyline fill=\"none\" stroke=\"black\" points=\"118,-84.5 118,-120.5 \"/>\n<text text-anchor=\"middle\" x=\"159\" y=\"-98.8\" font-family=\"Times,serif\" font-size=\"14.00\">grad 1.0000</text>\n</g>\n<!-- 137247244281520&#45;&gt;137247244272304* -->\n<g id=\"edge27\" class=\"edge\">\n<title>137247244281520&#45;&gt;137247244272304*</title>\n<path fill=\"none\" stroke=\"black\" d=\"M200.21,-102.5C209.2,-102.5 217.86,-102.5 225.7,-102.5\"/>\n<polygon fill=\"black\" stroke=\"black\" points=\"225.85,-106 235.85,-102.5 225.85,-99 225.85,-106\"/>\n</g>\n<!-- 137247244273408 -->\n<g id=\"node13\" class=\"node\">\n<title>137247244273408</title>\n<polygon fill=\"none\" stroke=\"black\" points=\"1655,-110.5 1655,-146.5 1842,-146.5 1842,-110.5 1655,-110.5\"/>\n<text text-anchor=\"middle\" x=\"1665\" y=\"-124.8\" font-family=\"Times,serif\" font-size=\"14.00\"> </text>\n<polyline fill=\"none\" stroke=\"black\" points=\"1675,-110.5 1675,-146.5 \"/>\n<text text-anchor=\"middle\" x=\"1717.5\" y=\"-124.8\" font-family=\"Times,serif\" font-size=\"14.00\">data &#45;1.0000</text>\n<polyline fill=\"none\" stroke=\"black\" points=\"1760,-110.5 1760,-146.5 \"/>\n<text text-anchor=\"middle\" x=\"1801\" y=\"-124.8\" font-family=\"Times,serif\" font-size=\"14.00\">grad 0.1464</text>\n</g>\n<!-- 137247244284208+ -->\n<g id=\"node15\" class=\"node\">\n<title>137247244284208+</title>\n<ellipse fill=\"none\" stroke=\"black\" cx=\"1905\" cy=\"-100.5\" rx=\"27\" ry=\"18\"/>\n<text text-anchor=\"middle\" x=\"1905\" y=\"-96.8\" font-family=\"Times,serif\" font-size=\"14.00\">+</text>\n</g>\n<!-- 137247244273408&#45;&gt;137247244284208+ -->\n<g id=\"edge22\" class=\"edge\">\n<title>137247244273408&#45;&gt;137247244284208+</title>\n<path fill=\"none\" stroke=\"black\" d=\"M1842.05,-111.73C1851.54,-110.01 1860.71,-108.35 1868.95,-106.85\"/>\n<polygon fill=\"black\" stroke=\"black\" points=\"1869.64,-110.28 1878.85,-105.06 1868.39,-103.4 1869.64,-110.28\"/>\n</g>\n<!-- 137247244284208 -->\n<g id=\"node14\" class=\"node\">\n<title>137247244284208</title>\n<polygon fill=\"none\" stroke=\"black\" points=\"2190,-82.5 2190,-118.5 2372,-118.5 2372,-82.5 2190,-82.5\"/>\n<text text-anchor=\"middle\" x=\"2200\" y=\"-96.8\" font-family=\"Times,serif\" font-size=\"14.00\"> </text>\n<polyline fill=\"none\" stroke=\"black\" points=\"2210,-82.5 2210,-118.5 \"/>\n<text text-anchor=\"middle\" x=\"2250\" y=\"-96.8\" font-family=\"Times,serif\" font-size=\"14.00\">data 4.8284</text>\n<polyline fill=\"none\" stroke=\"black\" points=\"2290,-82.5 2290,-118.5 \"/>\n<text text-anchor=\"middle\" x=\"2331\" y=\"-96.8\" font-family=\"Times,serif\" font-size=\"14.00\">grad 0.1464</text>\n</g>\n<!-- 137247244280752* -->\n<g id=\"node22\" class=\"node\">\n<title>137247244280752*</title>\n<ellipse fill=\"none\" stroke=\"black\" cx=\"2653\" cy=\"-72.5\" rx=\"27\" ry=\"18\"/>\n<text text-anchor=\"middle\" x=\"2653\" y=\"-68.8\" font-family=\"Times,serif\" font-size=\"14.00\">*</text>\n</g>\n<!-- 137247244284208&#45;&gt;137247244280752* -->\n<g id=\"edge19\" class=\"edge\">\n<title>137247244284208&#45;&gt;137247244280752*</title>\n<path fill=\"none\" stroke=\"black\" d=\"M2372.31,-93.9C2433.7,-89.37 2516.76,-83.19 2590,-77.5 2598.42,-76.85 2607.48,-76.13 2616.01,-75.44\"/>\n<polygon fill=\"black\" stroke=\"black\" points=\"2616.37,-78.92 2626.06,-74.63 2615.81,-71.94 2616.37,-78.92\"/>\n</g>\n<!-- 137247244284208+&#45;&gt;137247244284208 -->\n<g id=\"edge5\" class=\"edge\">\n<title>137247244284208+&#45;&gt;137247244284208</title>\n<path fill=\"none\" stroke=\"black\" d=\"M1932,-100.5C1982.46,-100.5 2096.06,-100.5 2179.81,-100.5\"/>\n<polygon fill=\"black\" stroke=\"black\" points=\"2179.87,-104 2189.87,-100.5 2179.87,-97 2179.87,-104\"/>\n</g>\n<!-- 137247244277056 -->\n<g id=\"node16\" class=\"node\">\n<title>137247244277056</title>\n<polygon fill=\"none\" stroke=\"black\" points=\"328.5,-139.5 328.5,-175.5 537.5,-175.5 537.5,-139.5 328.5,-139.5\"/>\n<text text-anchor=\"middle\" x=\"352\" y=\"-153.8\" font-family=\"Times,serif\" font-size=\"14.00\">x2w2</text>\n<polyline fill=\"none\" stroke=\"black\" points=\"375.5,-139.5 375.5,-175.5 \"/>\n<text text-anchor=\"middle\" x=\"415.5\" y=\"-153.8\" font-family=\"Times,serif\" font-size=\"14.00\">data 0.0000</text>\n<polyline fill=\"none\" stroke=\"black\" points=\"455.5,-139.5 455.5,-175.5 \"/>\n<text text-anchor=\"middle\" x=\"496.5\" y=\"-153.8\" font-family=\"Times,serif\" font-size=\"14.00\">grad 0.5000</text>\n</g>\n<!-- 137247244277056&#45;&gt;137247244274608+ -->\n<g id=\"edge14\" class=\"edge\">\n<title>137247244277056&#45;&gt;137247244274608+</title>\n<path fill=\"none\" stroke=\"black\" d=\"M537.53,-140.25C547.8,-138.53 557.66,-136.89 566.45,-135.43\"/>\n<polygon fill=\"black\" stroke=\"black\" points=\"567.3,-138.83 576.59,-133.74 566.15,-131.93 567.3,-138.83\"/>\n</g>\n<!-- 137247244277056*&#45;&gt;137247244277056 -->\n<g id=\"edge6\" class=\"edge\">\n<title>137247244277056*&#45;&gt;137247244277056</title>\n<path fill=\"none\" stroke=\"black\" d=\"M290.25,-157.5C298.43,-157.5 308.03,-157.5 318.31,-157.5\"/>\n<polygon fill=\"black\" stroke=\"black\" points=\"318.35,-161 328.35,-157.5 318.35,-154 318.35,-161\"/>\n</g>\n<!-- 137247244271920 -->\n<g id=\"node18\" class=\"node\">\n<title>137247244271920</title>\n<polygon fill=\"none\" stroke=\"black\" points=\"1968,-27.5 1968,-63.5 2154,-63.5 2154,-27.5 1968,-27.5\"/>\n<text text-anchor=\"middle\" x=\"1978\" y=\"-41.8\" font-family=\"Times,serif\" font-size=\"14.00\"> </text>\n<polyline fill=\"none\" stroke=\"black\" points=\"1988,-27.5 1988,-63.5 \"/>\n<text text-anchor=\"middle\" x=\"2028\" y=\"-41.8\" font-family=\"Times,serif\" font-size=\"14.00\">data 6.8284</text>\n<polyline fill=\"none\" stroke=\"black\" points=\"2068,-27.5 2068,-63.5 \"/>\n<text text-anchor=\"middle\" x=\"2111\" y=\"-41.8\" font-family=\"Times,serif\" font-size=\"14.00\">grad &#45;0.1036</text>\n</g>\n<!-- 137247244278736** -->\n<g id=\"node26\" class=\"node\">\n<title>137247244278736**</title>\n<ellipse fill=\"none\" stroke=\"black\" cx=\"2281\" cy=\"-45.5\" rx=\"27\" ry=\"18\"/>\n<text text-anchor=\"middle\" x=\"2281\" y=\"-41.8\" font-family=\"Times,serif\" font-size=\"14.00\">**</text>\n</g>\n<!-- 137247244271920&#45;&gt;137247244278736** -->\n<g id=\"edge12\" class=\"edge\">\n<title>137247244271920&#45;&gt;137247244278736**</title>\n<path fill=\"none\" stroke=\"black\" d=\"M2154.14,-45.5C2185.72,-45.5 2219.24,-45.5 2243.74,-45.5\"/>\n<polygon fill=\"black\" stroke=\"black\" points=\"2243.98,-49 2253.98,-45.5 2243.98,-42 2243.98,-49\"/>\n</g>\n<!-- 137247244271920+ -->\n<g id=\"node19\" class=\"node\">\n<title>137247244271920+</title>\n<ellipse fill=\"none\" stroke=\"black\" cx=\"1905\" cy=\"-45.5\" rx=\"27\" ry=\"18\"/>\n<text text-anchor=\"middle\" x=\"1905\" y=\"-41.8\" font-family=\"Times,serif\" font-size=\"14.00\">+</text>\n</g>\n<!-- 137247244271920+&#45;&gt;137247244271920 -->\n<g id=\"edge7\" class=\"edge\">\n<title>137247244271920+&#45;&gt;137247244271920</title>\n<path fill=\"none\" stroke=\"black\" d=\"M1932.12,-45.5C1939.62,-45.5 1948.29,-45.5 1957.5,-45.5\"/>\n<polygon fill=\"black\" stroke=\"black\" points=\"1957.69,-49 1967.69,-45.5 1957.69,-42 1957.69,-49\"/>\n</g>\n<!-- 137247244282768 -->\n<g id=\"node20\" class=\"node\">\n<title>137247244282768</title>\n<polygon fill=\"none\" stroke=\"black\" points=\"1655.5,-0.5 1655.5,-36.5 1841.5,-36.5 1841.5,-0.5 1655.5,-0.5\"/>\n<text text-anchor=\"middle\" x=\"1665.5\" y=\"-14.8\" font-family=\"Times,serif\" font-size=\"14.00\"> </text>\n<polyline fill=\"none\" stroke=\"black\" points=\"1675.5,-0.5 1675.5,-36.5 \"/>\n<text text-anchor=\"middle\" x=\"1715.5\" y=\"-14.8\" font-family=\"Times,serif\" font-size=\"14.00\">data 1.0000</text>\n<polyline fill=\"none\" stroke=\"black\" points=\"1755.5,-0.5 1755.5,-36.5 \"/>\n<text text-anchor=\"middle\" x=\"1798.5\" y=\"-14.8\" font-family=\"Times,serif\" font-size=\"14.00\">grad &#45;0.1036</text>\n</g>\n<!-- 137247244282768&#45;&gt;137247244271920+ -->\n<g id=\"edge17\" class=\"edge\">\n<title>137247244282768&#45;&gt;137247244271920+</title>\n<path fill=\"none\" stroke=\"black\" d=\"M1841.6,-34.6C1851.15,-36.26 1860.37,-37.88 1868.68,-39.33\"/>\n<polygon fill=\"black\" stroke=\"black\" points=\"1868.2,-42.8 1878.65,-41.07 1869.4,-35.9 1868.2,-42.8\"/>\n</g>\n<!-- 137247244280752 -->\n<g id=\"node21\" class=\"node\">\n<title>137247244280752</title>\n<polygon fill=\"none\" stroke=\"black\" points=\"2716,-54.5 2716,-90.5 2901,-90.5 2901,-54.5 2716,-54.5\"/>\n<text text-anchor=\"middle\" x=\"2727.5\" y=\"-68.8\" font-family=\"Times,serif\" font-size=\"14.00\">o</text>\n<polyline fill=\"none\" stroke=\"black\" points=\"2739,-54.5 2739,-90.5 \"/>\n<text text-anchor=\"middle\" x=\"2779\" y=\"-68.8\" font-family=\"Times,serif\" font-size=\"14.00\">data 0.7071</text>\n<polyline fill=\"none\" stroke=\"black\" points=\"2819,-54.5 2819,-90.5 \"/>\n<text text-anchor=\"middle\" x=\"2860\" y=\"-68.8\" font-family=\"Times,serif\" font-size=\"14.00\">grad 1.0000</text>\n</g>\n<!-- 137247244280752*&#45;&gt;137247244280752 -->\n<g id=\"edge8\" class=\"edge\">\n<title>137247244280752*&#45;&gt;137247244280752</title>\n<path fill=\"none\" stroke=\"black\" d=\"M2680.04,-72.5C2687.58,-72.5 2696.3,-72.5 2705.57,-72.5\"/>\n<polygon fill=\"black\" stroke=\"black\" points=\"2705.81,-76 2715.81,-72.5 2705.81,-69 2705.81,-76\"/>\n</g>\n<!-- 137247244282816 -->\n<g id=\"node23\" class=\"node\">\n<title>137247244282816</title>\n<polygon fill=\"none\" stroke=\"black\" points=\"1657.5,-55.5 1657.5,-91.5 1839.5,-91.5 1839.5,-55.5 1657.5,-55.5\"/>\n<text text-anchor=\"middle\" x=\"1667.5\" y=\"-69.8\" font-family=\"Times,serif\" font-size=\"14.00\"> </text>\n<polyline fill=\"none\" stroke=\"black\" points=\"1677.5,-55.5 1677.5,-91.5 \"/>\n<text text-anchor=\"middle\" x=\"1717.5\" y=\"-69.8\" font-family=\"Times,serif\" font-size=\"14.00\">data 5.8284</text>\n<polyline fill=\"none\" stroke=\"black\" points=\"1757.5,-55.5 1757.5,-91.5 \"/>\n<text text-anchor=\"middle\" x=\"1798.5\" y=\"-69.8\" font-family=\"Times,serif\" font-size=\"14.00\">grad 0.0429</text>\n</g>\n<!-- 137247244282816&#45;&gt;137247244284208+ -->\n<g id=\"edge16\" class=\"edge\">\n<title>137247244282816&#45;&gt;137247244284208+</title>\n<path fill=\"none\" stroke=\"black\" d=\"M1839.82,-89.28C1850.07,-91.08 1860.01,-92.81 1868.88,-94.36\"/>\n<polygon fill=\"black\" stroke=\"black\" points=\"1868.3,-97.81 1878.75,-96.09 1869.5,-90.92 1868.3,-97.81\"/>\n</g>\n<!-- 137247244282816&#45;&gt;137247244271920+ -->\n<g id=\"edge13\" class=\"edge\">\n<title>137247244282816&#45;&gt;137247244271920+</title>\n<path fill=\"none\" stroke=\"black\" d=\"M1839.82,-57.13C1850.07,-55.27 1860.01,-53.47 1868.88,-51.87\"/>\n<polygon fill=\"black\" stroke=\"black\" points=\"1869.54,-55.3 1878.75,-50.08 1868.29,-48.42 1869.54,-55.3\"/>\n</g>\n<!-- 137247244282816exp&#45;&gt;137247244282816 -->\n<g id=\"edge9\" class=\"edge\">\n<title>137247244282816exp&#45;&gt;137247244282816</title>\n<path fill=\"none\" stroke=\"black\" d=\"M1619.21,-73.5C1627.34,-73.5 1636.85,-73.5 1646.94,-73.5\"/>\n<polygon fill=\"black\" stroke=\"black\" points=\"1647.19,-77 1657.19,-73.5 1647.19,-70 1647.19,-77\"/>\n</g>\n<!-- 137247244278736 -->\n<g id=\"node25\" class=\"node\">\n<title>137247244278736</title>\n<polygon fill=\"none\" stroke=\"black\" points=\"2408,-31.5 2408,-67.5 2590,-67.5 2590,-31.5 2408,-31.5\"/>\n<text text-anchor=\"middle\" x=\"2418\" y=\"-45.8\" font-family=\"Times,serif\" font-size=\"14.00\"> </text>\n<polyline fill=\"none\" stroke=\"black\" points=\"2428,-31.5 2428,-67.5 \"/>\n<text text-anchor=\"middle\" x=\"2468\" y=\"-45.8\" font-family=\"Times,serif\" font-size=\"14.00\">data 0.1464</text>\n<polyline fill=\"none\" stroke=\"black\" points=\"2508,-31.5 2508,-67.5 \"/>\n<text text-anchor=\"middle\" x=\"2549\" y=\"-45.8\" font-family=\"Times,serif\" font-size=\"14.00\">grad 4.8284</text>\n</g>\n<!-- 137247244278736&#45;&gt;137247244280752* -->\n<g id=\"edge26\" class=\"edge\">\n<title>137247244278736&#45;&gt;137247244280752*</title>\n<path fill=\"none\" stroke=\"black\" d=\"M2590.18,-63.15C2599.42,-64.54 2608.38,-65.9 2616.47,-67.12\"/>\n<polygon fill=\"black\" stroke=\"black\" points=\"2616.15,-70.61 2626.56,-68.65 2617.19,-63.69 2616.15,-70.61\"/>\n</g>\n<!-- 137247244278736**&#45;&gt;137247244278736 -->\n<g id=\"edge10\" class=\"edge\">\n<title>137247244278736**&#45;&gt;137247244278736</title>\n<path fill=\"none\" stroke=\"black\" d=\"M2308.05,-45.98C2330.53,-46.4 2364.48,-47.03 2397.5,-47.64\"/>\n<polygon fill=\"black\" stroke=\"black\" points=\"2397.64,-51.14 2407.7,-47.83 2397.77,-44.14 2397.64,-51.14\"/>\n</g>\n<!-- 137247244283872 -->\n<g id=\"node27\" class=\"node\">\n<title>137247244283872</title>\n<polygon fill=\"none\" stroke=\"black\" points=\"2,-29.5 2,-65.5 198,-65.5 198,-29.5 2,-29.5\"/>\n<text text-anchor=\"middle\" x=\"17\" y=\"-43.8\" font-family=\"Times,serif\" font-size=\"14.00\">x1</text>\n<polyline fill=\"none\" stroke=\"black\" points=\"32,-29.5 32,-65.5 \"/>\n<text text-anchor=\"middle\" x=\"72\" y=\"-43.8\" font-family=\"Times,serif\" font-size=\"14.00\">data 2.0000</text>\n<polyline fill=\"none\" stroke=\"black\" points=\"112,-29.5 112,-65.5 \"/>\n<text text-anchor=\"middle\" x=\"155\" y=\"-43.8\" font-family=\"Times,serif\" font-size=\"14.00\">grad &#45;1.5000</text>\n</g>\n<!-- 137247244283872&#45;&gt;137247244272304* -->\n<g id=\"edge15\" class=\"edge\">\n<title>137247244283872&#45;&gt;137247244272304*</title>\n<path fill=\"none\" stroke=\"black\" d=\"M169.28,-65.5C179.65,-68.61 190.16,-71.98 200,-75.5 210.28,-79.17 221.28,-83.74 231.11,-88.07\"/>\n<polygon fill=\"black\" stroke=\"black\" points=\"229.93,-91.37 240.48,-92.27 232.79,-84.99 229.93,-91.37\"/>\n</g>\n<!-- 137247244278256 -->\n<g id=\"node28\" class=\"node\">\n<title>137247244278256</title>\n<polygon fill=\"none\" stroke=\"black\" points=\"2.5,-139.5 2.5,-175.5 197.5,-175.5 197.5,-139.5 2.5,-139.5\"/>\n<text text-anchor=\"middle\" x=\"19\" y=\"-153.8\" font-family=\"Times,serif\" font-size=\"14.00\">w2</text>\n<polyline fill=\"none\" stroke=\"black\" points=\"35.5,-139.5 35.5,-175.5 \"/>\n<text text-anchor=\"middle\" x=\"75.5\" y=\"-153.8\" font-family=\"Times,serif\" font-size=\"14.00\">data 1.0000</text>\n<polyline fill=\"none\" stroke=\"black\" points=\"115.5,-139.5 115.5,-175.5 \"/>\n<text text-anchor=\"middle\" x=\"156.5\" y=\"-153.8\" font-family=\"Times,serif\" font-size=\"14.00\">grad 0.0000</text>\n</g>\n<!-- 137247244278256&#45;&gt;137247244277056* -->\n<g id=\"edge18\" class=\"edge\">\n<title>137247244278256&#45;&gt;137247244277056*</title>\n<path fill=\"none\" stroke=\"black\" d=\"M197.91,-157.5C207.65,-157.5 217.05,-157.5 225.52,-157.5\"/>\n<polygon fill=\"black\" stroke=\"black\" points=\"225.7,-161 235.7,-157.5 225.7,-154 225.7,-161\"/>\n</g>\n</g>\n</svg>\n",
            "text/plain": [
              "<graphviz.graphs.Digraph at 0x7cd35d3dd390>"
            ]
          },
          "metadata": {},
          "execution_count": 101
        }
      ]
    },
    {
      "cell_type": "code",
      "source": [
        "import torch\n",
        "\n",
        "x1 = torch.tensor([2.0], requires_grad=True)\n",
        "x2 = torch.tensor([0.0], requires_grad=True)\n",
        "w1 = torch.tensor([-3.0], requires_grad=True)\n",
        "w2 = torch.tensor([1.0], requires_grad=True)\n",
        "\n",
        "b = torch.tensor([6.8813735870195432], requires_grad=True)\n",
        "\n",
        "n = x1*w1 + x2*w2 + b\n",
        "o = torch.tanh(n)\n",
        "\n",
        "print(o.data.item())\n",
        "\n",
        "o.backward()\n",
        "\n",
        "print(\"***************************\")\n",
        "\n",
        "print(x1.grad.item())\n",
        "print(x2.grad.item())\n",
        "print(w1.grad.item())\n",
        "print(w2.grad.item())"
      ],
      "metadata": {
        "colab": {
          "base_uri": "https://localhost:8080/"
        },
        "id": "ye35OXIvn-Zb",
        "outputId": "e6caa5d5-8255-49d7-f4fe-c98bd85145c7"
      },
      "execution_count": 102,
      "outputs": [
        {
          "output_type": "stream",
          "name": "stdout",
          "text": [
            "0.7071067094802856\n",
            "***************************\n",
            "-1.5000003576278687\n",
            "0.5000001192092896\n",
            "1.000000238418579\n",
            "0.0\n"
          ]
        }
      ]
    },
    {
      "cell_type": "code",
      "source": [],
      "metadata": {
        "id": "Z1cltkYQpjfs"
      },
      "execution_count": null,
      "outputs": []
    }
  ]
}